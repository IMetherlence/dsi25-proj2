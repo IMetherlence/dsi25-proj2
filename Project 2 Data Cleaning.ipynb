{
 "cells": [
  {
   "cell_type": "markdown",
   "metadata": {
    "id": "gulATwWlabFG"
   },
   "source": [
    "# Problem Statement\n",
    "---\n",
    "\n"
   ]
  },
  {
   "cell_type": "markdown",
   "metadata": {},
   "source": [
    "You are a consultant hired to analyse and present data to investors and home-builders who are looking to sell their construction projects to potential home-buyers.\n",
    "\n",
    "The current model which stakeholders are using is the general statistical metrics of annual houses, in particular the mean sales price of houses. Data in this field is rather assymetric as access to readily available factors of housing prices are not readily available.\n",
    "\n",
    "The objective of this model is to provide a more accurate prediction of a house's price based on the features of the house itself.\n",
    "\n",
    "In this analysis, we will be using Supervised Learning with Regression models."
   ]
  },
  {
   "cell_type": "markdown",
   "metadata": {},
   "source": [
    "## Data Dictionary:\n",
    "\n",
    "Please refer to this link for the data dictionary.\n",
    "https://www.kaggle.com/c/dsi-us-11-project-2-regression-challenge/data\n",
    "\n",
    "Data cleaning will be explained as we go along and we may set gradings to a integer rating\n",
    "For string columns that are not easily rated, we may set dummy columns to them."
   ]
  },
  {
   "cell_type": "markdown",
   "metadata": {},
   "source": [
    "# Additional Research Sources:\n",
    "--- \n",
    "https://nycdatascience.com/blog/r/ames-iowa-real-estate-analysis/  \n",
    "https://www.cityofames.org/about-ames/about-ames  \n"
   ]
  },
  {
   "cell_type": "markdown",
   "metadata": {
    "id": "afqomD1FNSm9"
   },
   "source": [
    "# Import Libraries\n",
    "---\n"
   ]
  },
  {
   "cell_type": "code",
   "execution_count": 1,
   "metadata": {
    "id": "gocu8zV0MYzE"
   },
   "outputs": [],
   "source": [
    "#libraries \n",
    "import scipy.stats as stats\n",
    "import numpy as np\n",
    "import pandas as pd\n",
    "\n",
    "import seaborn as sns\n",
    "import matplotlib.pyplot as plt\n",
    "\n",
    "%matplotlib inline"
   ]
  },
  {
   "cell_type": "markdown",
   "metadata": {},
   "source": [
    "# Loading the Data  \n",
    "\n",
    "We have the AMES housing price"
   ]
  },
  {
   "cell_type": "code",
   "execution_count": 2,
   "metadata": {
    "id": "hvDRDeK2Mfst"
   },
   "outputs": [],
   "source": [
    "#url of data for team colab, please remove this section for individual submission and replaced it with your git submission on data\n",
    "train_url = '../project_2/datasets/train.csv'\n",
    "\n",
    "#data\n",
    "df_train = pd.read_csv(train_url) #Training data"
   ]
  },
  {
   "cell_type": "markdown",
   "metadata": {
    "id": "zGyedflaZyX-"
   },
   "source": [
    "# Data cleaning\n",
    "---\n",
    "\n"
   ]
  },
  {
   "cell_type": "markdown",
   "metadata": {
    "id": "MeMRycOqhTxd"
   },
   "source": [
    "## Initial Check\n",
    "\n",
    "Get a sneak peek of the data we are dealing with first."
   ]
  },
  {
   "cell_type": "code",
   "execution_count": 3,
   "metadata": {
    "scrolled": true
   },
   "outputs": [
    {
     "data": {
      "text/html": [
       "<div>\n",
       "<style scoped>\n",
       "    .dataframe tbody tr th:only-of-type {\n",
       "        vertical-align: middle;\n",
       "    }\n",
       "\n",
       "    .dataframe tbody tr th {\n",
       "        vertical-align: top;\n",
       "    }\n",
       "\n",
       "    .dataframe thead th {\n",
       "        text-align: right;\n",
       "    }\n",
       "</style>\n",
       "<table border=\"1\" class=\"dataframe\">\n",
       "  <thead>\n",
       "    <tr style=\"text-align: right;\">\n",
       "      <th></th>\n",
       "      <th>Id</th>\n",
       "      <th>PID</th>\n",
       "      <th>MS SubClass</th>\n",
       "      <th>MS Zoning</th>\n",
       "      <th>Lot Frontage</th>\n",
       "      <th>Lot Area</th>\n",
       "      <th>Street</th>\n",
       "      <th>Alley</th>\n",
       "      <th>Lot Shape</th>\n",
       "      <th>Land Contour</th>\n",
       "      <th>...</th>\n",
       "      <th>Screen Porch</th>\n",
       "      <th>Pool Area</th>\n",
       "      <th>Pool QC</th>\n",
       "      <th>Fence</th>\n",
       "      <th>Misc Feature</th>\n",
       "      <th>Misc Val</th>\n",
       "      <th>Mo Sold</th>\n",
       "      <th>Yr Sold</th>\n",
       "      <th>Sale Type</th>\n",
       "      <th>SalePrice</th>\n",
       "    </tr>\n",
       "  </thead>\n",
       "  <tbody>\n",
       "    <tr>\n",
       "      <th>0</th>\n",
       "      <td>109</td>\n",
       "      <td>533352170</td>\n",
       "      <td>60</td>\n",
       "      <td>RL</td>\n",
       "      <td>NaN</td>\n",
       "      <td>13517</td>\n",
       "      <td>Pave</td>\n",
       "      <td>NaN</td>\n",
       "      <td>IR1</td>\n",
       "      <td>Lvl</td>\n",
       "      <td>...</td>\n",
       "      <td>0</td>\n",
       "      <td>0</td>\n",
       "      <td>NaN</td>\n",
       "      <td>NaN</td>\n",
       "      <td>NaN</td>\n",
       "      <td>0</td>\n",
       "      <td>3</td>\n",
       "      <td>2010</td>\n",
       "      <td>WD</td>\n",
       "      <td>130500</td>\n",
       "    </tr>\n",
       "    <tr>\n",
       "      <th>1</th>\n",
       "      <td>544</td>\n",
       "      <td>531379050</td>\n",
       "      <td>60</td>\n",
       "      <td>RL</td>\n",
       "      <td>43.0</td>\n",
       "      <td>11492</td>\n",
       "      <td>Pave</td>\n",
       "      <td>NaN</td>\n",
       "      <td>IR1</td>\n",
       "      <td>Lvl</td>\n",
       "      <td>...</td>\n",
       "      <td>0</td>\n",
       "      <td>0</td>\n",
       "      <td>NaN</td>\n",
       "      <td>NaN</td>\n",
       "      <td>NaN</td>\n",
       "      <td>0</td>\n",
       "      <td>4</td>\n",
       "      <td>2009</td>\n",
       "      <td>WD</td>\n",
       "      <td>220000</td>\n",
       "    </tr>\n",
       "    <tr>\n",
       "      <th>2</th>\n",
       "      <td>153</td>\n",
       "      <td>535304180</td>\n",
       "      <td>20</td>\n",
       "      <td>RL</td>\n",
       "      <td>68.0</td>\n",
       "      <td>7922</td>\n",
       "      <td>Pave</td>\n",
       "      <td>NaN</td>\n",
       "      <td>Reg</td>\n",
       "      <td>Lvl</td>\n",
       "      <td>...</td>\n",
       "      <td>0</td>\n",
       "      <td>0</td>\n",
       "      <td>NaN</td>\n",
       "      <td>NaN</td>\n",
       "      <td>NaN</td>\n",
       "      <td>0</td>\n",
       "      <td>1</td>\n",
       "      <td>2010</td>\n",
       "      <td>WD</td>\n",
       "      <td>109000</td>\n",
       "    </tr>\n",
       "    <tr>\n",
       "      <th>3</th>\n",
       "      <td>318</td>\n",
       "      <td>916386060</td>\n",
       "      <td>60</td>\n",
       "      <td>RL</td>\n",
       "      <td>73.0</td>\n",
       "      <td>9802</td>\n",
       "      <td>Pave</td>\n",
       "      <td>NaN</td>\n",
       "      <td>Reg</td>\n",
       "      <td>Lvl</td>\n",
       "      <td>...</td>\n",
       "      <td>0</td>\n",
       "      <td>0</td>\n",
       "      <td>NaN</td>\n",
       "      <td>NaN</td>\n",
       "      <td>NaN</td>\n",
       "      <td>0</td>\n",
       "      <td>4</td>\n",
       "      <td>2010</td>\n",
       "      <td>WD</td>\n",
       "      <td>174000</td>\n",
       "    </tr>\n",
       "    <tr>\n",
       "      <th>4</th>\n",
       "      <td>255</td>\n",
       "      <td>906425045</td>\n",
       "      <td>50</td>\n",
       "      <td>RL</td>\n",
       "      <td>82.0</td>\n",
       "      <td>14235</td>\n",
       "      <td>Pave</td>\n",
       "      <td>NaN</td>\n",
       "      <td>IR1</td>\n",
       "      <td>Lvl</td>\n",
       "      <td>...</td>\n",
       "      <td>0</td>\n",
       "      <td>0</td>\n",
       "      <td>NaN</td>\n",
       "      <td>NaN</td>\n",
       "      <td>NaN</td>\n",
       "      <td>0</td>\n",
       "      <td>3</td>\n",
       "      <td>2010</td>\n",
       "      <td>WD</td>\n",
       "      <td>138500</td>\n",
       "    </tr>\n",
       "  </tbody>\n",
       "</table>\n",
       "<p>5 rows × 81 columns</p>\n",
       "</div>"
      ],
      "text/plain": [
       "    Id        PID  MS SubClass MS Zoning  Lot Frontage  Lot Area Street Alley  \\\n",
       "0  109  533352170           60        RL           NaN     13517   Pave   NaN   \n",
       "1  544  531379050           60        RL          43.0     11492   Pave   NaN   \n",
       "2  153  535304180           20        RL          68.0      7922   Pave   NaN   \n",
       "3  318  916386060           60        RL          73.0      9802   Pave   NaN   \n",
       "4  255  906425045           50        RL          82.0     14235   Pave   NaN   \n",
       "\n",
       "  Lot Shape Land Contour  ... Screen Porch Pool Area Pool QC Fence  \\\n",
       "0       IR1          Lvl  ...            0         0     NaN   NaN   \n",
       "1       IR1          Lvl  ...            0         0     NaN   NaN   \n",
       "2       Reg          Lvl  ...            0         0     NaN   NaN   \n",
       "3       Reg          Lvl  ...            0         0     NaN   NaN   \n",
       "4       IR1          Lvl  ...            0         0     NaN   NaN   \n",
       "\n",
       "  Misc Feature Misc Val Mo Sold Yr Sold  Sale Type  SalePrice  \n",
       "0          NaN        0       3    2010        WD      130500  \n",
       "1          NaN        0       4    2009        WD      220000  \n",
       "2          NaN        0       1    2010        WD      109000  \n",
       "3          NaN        0       4    2010        WD      174000  \n",
       "4          NaN        0       3    2010        WD      138500  \n",
       "\n",
       "[5 rows x 81 columns]"
      ]
     },
     "execution_count": 3,
     "metadata": {},
     "output_type": "execute_result"
    }
   ],
   "source": [
    "df_train.head()"
   ]
  },
  {
   "cell_type": "markdown",
   "metadata": {},
   "source": [
    "Wow! There appears to be a lot of columns. This presents a problem that the columns are not be viewable. Let's using columns function to see what column names we have:"
   ]
  },
  {
   "cell_type": "code",
   "execution_count": 4,
   "metadata": {},
   "outputs": [
    {
     "data": {
      "text/plain": [
       "Index(['Id', 'PID', 'MS SubClass', 'MS Zoning', 'Lot Frontage', 'Lot Area',\n",
       "       'Street', 'Alley', 'Lot Shape', 'Land Contour', 'Utilities',\n",
       "       'Lot Config', 'Land Slope', 'Neighborhood', 'Condition 1',\n",
       "       'Condition 2', 'Bldg Type', 'House Style', 'Overall Qual',\n",
       "       'Overall Cond', 'Year Built', 'Year Remod/Add', 'Roof Style',\n",
       "       'Roof Matl', 'Exterior 1st', 'Exterior 2nd', 'Mas Vnr Type',\n",
       "       'Mas Vnr Area', 'Exter Qual', 'Exter Cond', 'Foundation', 'Bsmt Qual',\n",
       "       'Bsmt Cond', 'Bsmt Exposure', 'BsmtFin Type 1', 'BsmtFin SF 1',\n",
       "       'BsmtFin Type 2', 'BsmtFin SF 2', 'Bsmt Unf SF', 'Total Bsmt SF',\n",
       "       'Heating', 'Heating QC', 'Central Air', 'Electrical', '1st Flr SF',\n",
       "       '2nd Flr SF', 'Low Qual Fin SF', 'Gr Liv Area', 'Bsmt Full Bath',\n",
       "       'Bsmt Half Bath', 'Full Bath', 'Half Bath', 'Bedroom AbvGr',\n",
       "       'Kitchen AbvGr', 'Kitchen Qual', 'TotRms AbvGrd', 'Functional',\n",
       "       'Fireplaces', 'Fireplace Qu', 'Garage Type', 'Garage Yr Blt',\n",
       "       'Garage Finish', 'Garage Cars', 'Garage Area', 'Garage Qual',\n",
       "       'Garage Cond', 'Paved Drive', 'Wood Deck SF', 'Open Porch SF',\n",
       "       'Enclosed Porch', '3Ssn Porch', 'Screen Porch', 'Pool Area', 'Pool QC',\n",
       "       'Fence', 'Misc Feature', 'Misc Val', 'Mo Sold', 'Yr Sold', 'Sale Type',\n",
       "       'SalePrice'],\n",
       "      dtype='object')"
      ]
     },
     "execution_count": 4,
     "metadata": {},
     "output_type": "execute_result"
    }
   ],
   "source": [
    "df_train.columns"
   ]
  },
  {
   "cell_type": "markdown",
   "metadata": {},
   "source": [
    "Let's also check for any null values."
   ]
  },
  {
   "cell_type": "code",
   "execution_count": 5,
   "metadata": {
    "colab": {
     "base_uri": "https://localhost:8080/"
    },
    "executionInfo": {
     "elapsed": 11,
     "status": "ok",
     "timestamp": 1634021525752,
     "user": {
      "displayName": "Nor Rahayu Supaat",
      "photoUrl": "https://lh3.googleusercontent.com/a-/AOh14GiNLn39OzPdfrtE81mL0n1WHHhRDHZXqsv686dpkSg=s64",
      "userId": "01586812581137415114"
     },
     "user_tz": -480
    },
    "id": "rJoxLNJtPjcZ",
    "outputId": "c2e8eaa0-77fe-413e-cf1f-914cbf80724b"
   },
   "outputs": [
    {
     "data": {
      "text/plain": [
       "Lot Frontage       330\n",
       "Alley             1911\n",
       "Mas Vnr Type        22\n",
       "Mas Vnr Area        22\n",
       "Bsmt Qual           55\n",
       "Bsmt Cond           55\n",
       "Bsmt Exposure       58\n",
       "BsmtFin Type 1      55\n",
       "BsmtFin SF 1         1\n",
       "BsmtFin Type 2      56\n",
       "BsmtFin SF 2         1\n",
       "Bsmt Unf SF          1\n",
       "Total Bsmt SF        1\n",
       "Bsmt Full Bath       2\n",
       "Bsmt Half Bath       2\n",
       "Fireplace Qu      1000\n",
       "Garage Type        113\n",
       "Garage Yr Blt      114\n",
       "Garage Finish      114\n",
       "Garage Cars          1\n",
       "Garage Area          1\n",
       "Garage Qual        114\n",
       "Garage Cond        114\n",
       "Pool QC           2042\n",
       "Fence             1651\n",
       "Misc Feature      1986\n",
       "dtype: int64"
      ]
     },
     "execution_count": 5,
     "metadata": {},
     "output_type": "execute_result"
    }
   ],
   "source": [
    "#check for null values in columns\n",
    "inulls = df_train.isnull().sum() # Store all column Null Counts in inulls\n",
    "a = inulls > 0 # Store all non-zero counts into variable a\n",
    "inulls[a] #Display only columns present in a"
   ]
  },
  {
   "cell_type": "markdown",
   "metadata": {},
   "source": [
    "Looks like we have quite a number of null datas to deal with.\n",
    "\n",
    "Upon checking the data dictionary, it appears that the null values have meaning, and it indicates that the feature represented in the column is not present in the house being sold. Thus it is OK to set the null values to zeroes instead.\n",
    "\n",
    "Now we check each columns to see what data types we are dealing with."
   ]
  },
  {
   "cell_type": "code",
   "execution_count": 6,
   "metadata": {},
   "outputs": [
    {
     "name": "stdout",
     "output_type": "stream",
     "text": [
      "<class 'pandas.core.frame.DataFrame'>\n",
      "RangeIndex: 2051 entries, 0 to 2050\n",
      "Data columns (total 81 columns):\n",
      " #   Column           Non-Null Count  Dtype  \n",
      "---  ------           --------------  -----  \n",
      " 0   Id               2051 non-null   int64  \n",
      " 1   PID              2051 non-null   int64  \n",
      " 2   MS SubClass      2051 non-null   int64  \n",
      " 3   MS Zoning        2051 non-null   object \n",
      " 4   Lot Frontage     1721 non-null   float64\n",
      " 5   Lot Area         2051 non-null   int64  \n",
      " 6   Street           2051 non-null   object \n",
      " 7   Alley            140 non-null    object \n",
      " 8   Lot Shape        2051 non-null   object \n",
      " 9   Land Contour     2051 non-null   object \n",
      " 10  Utilities        2051 non-null   object \n",
      " 11  Lot Config       2051 non-null   object \n",
      " 12  Land Slope       2051 non-null   object \n",
      " 13  Neighborhood     2051 non-null   object \n",
      " 14  Condition 1      2051 non-null   object \n",
      " 15  Condition 2      2051 non-null   object \n",
      " 16  Bldg Type        2051 non-null   object \n",
      " 17  House Style      2051 non-null   object \n",
      " 18  Overall Qual     2051 non-null   int64  \n",
      " 19  Overall Cond     2051 non-null   int64  \n",
      " 20  Year Built       2051 non-null   int64  \n",
      " 21  Year Remod/Add   2051 non-null   int64  \n",
      " 22  Roof Style       2051 non-null   object \n",
      " 23  Roof Matl        2051 non-null   object \n",
      " 24  Exterior 1st     2051 non-null   object \n",
      " 25  Exterior 2nd     2051 non-null   object \n",
      " 26  Mas Vnr Type     2029 non-null   object \n",
      " 27  Mas Vnr Area     2029 non-null   float64\n",
      " 28  Exter Qual       2051 non-null   object \n",
      " 29  Exter Cond       2051 non-null   object \n",
      " 30  Foundation       2051 non-null   object \n",
      " 31  Bsmt Qual        1996 non-null   object \n",
      " 32  Bsmt Cond        1996 non-null   object \n",
      " 33  Bsmt Exposure    1993 non-null   object \n",
      " 34  BsmtFin Type 1   1996 non-null   object \n",
      " 35  BsmtFin SF 1     2050 non-null   float64\n",
      " 36  BsmtFin Type 2   1995 non-null   object \n",
      " 37  BsmtFin SF 2     2050 non-null   float64\n",
      " 38  Bsmt Unf SF      2050 non-null   float64\n",
      " 39  Total Bsmt SF    2050 non-null   float64\n",
      " 40  Heating          2051 non-null   object \n",
      " 41  Heating QC       2051 non-null   object \n",
      " 42  Central Air      2051 non-null   object \n",
      " 43  Electrical       2051 non-null   object \n",
      " 44  1st Flr SF       2051 non-null   int64  \n",
      " 45  2nd Flr SF       2051 non-null   int64  \n",
      " 46  Low Qual Fin SF  2051 non-null   int64  \n",
      " 47  Gr Liv Area      2051 non-null   int64  \n",
      " 48  Bsmt Full Bath   2049 non-null   float64\n",
      " 49  Bsmt Half Bath   2049 non-null   float64\n",
      " 50  Full Bath        2051 non-null   int64  \n",
      " 51  Half Bath        2051 non-null   int64  \n",
      " 52  Bedroom AbvGr    2051 non-null   int64  \n",
      " 53  Kitchen AbvGr    2051 non-null   int64  \n",
      " 54  Kitchen Qual     2051 non-null   object \n",
      " 55  TotRms AbvGrd    2051 non-null   int64  \n",
      " 56  Functional       2051 non-null   object \n",
      " 57  Fireplaces       2051 non-null   int64  \n",
      " 58  Fireplace Qu     1051 non-null   object \n",
      " 59  Garage Type      1938 non-null   object \n",
      " 60  Garage Yr Blt    1937 non-null   float64\n",
      " 61  Garage Finish    1937 non-null   object \n",
      " 62  Garage Cars      2050 non-null   float64\n",
      " 63  Garage Area      2050 non-null   float64\n",
      " 64  Garage Qual      1937 non-null   object \n",
      " 65  Garage Cond      1937 non-null   object \n",
      " 66  Paved Drive      2051 non-null   object \n",
      " 67  Wood Deck SF     2051 non-null   int64  \n",
      " 68  Open Porch SF    2051 non-null   int64  \n",
      " 69  Enclosed Porch   2051 non-null   int64  \n",
      " 70  3Ssn Porch       2051 non-null   int64  \n",
      " 71  Screen Porch     2051 non-null   int64  \n",
      " 72  Pool Area        2051 non-null   int64  \n",
      " 73  Pool QC          9 non-null      object \n",
      " 74  Fence            400 non-null    object \n",
      " 75  Misc Feature     65 non-null     object \n",
      " 76  Misc Val         2051 non-null   int64  \n",
      " 77  Mo Sold          2051 non-null   int64  \n",
      " 78  Yr Sold          2051 non-null   int64  \n",
      " 79  Sale Type        2051 non-null   object \n",
      " 80  SalePrice        2051 non-null   int64  \n",
      "dtypes: float64(11), int64(28), object(42)\n",
      "memory usage: 1.3+ MB\n"
     ]
    }
   ],
   "source": [
    "df_train.info()"
   ]
  },
  {
   "cell_type": "markdown",
   "metadata": {},
   "source": [
    "There are a number of objects in the data indicating that there is a presence of strings in the data. We will need to either clean them up or set keywords."
   ]
  },
  {
   "cell_type": "markdown",
   "metadata": {},
   "source": [
    "### Standardize Column Names\n",
    "--- \n",
    "Let's standardise column names to lower case and underscores"
   ]
  },
  {
   "cell_type": "code",
   "execution_count": 7,
   "metadata": {
    "colab": {
     "base_uri": "https://localhost:8080/",
     "height": 490
    },
    "executionInfo": {
     "elapsed": 329,
     "status": "ok",
     "timestamp": 1634023379198,
     "user": {
      "displayName": "Nor Rahayu Supaat",
      "photoUrl": "https://lh3.googleusercontent.com/a-/AOh14GiNLn39OzPdfrtE81mL0n1WHHhRDHZXqsv686dpkSg=s64",
      "userId": "01586812581137415114"
     },
     "user_tz": -480
    },
    "id": "uQyhDxR4YLV3",
    "outputId": "9af43c3f-ba93-40fb-96ac-b974a4b107c8"
   },
   "outputs": [],
   "source": [
    "df_train.columns = df_train.columns.str.lower() #set all columns to lower case\n",
    "df_train.columns = df_train.columns.str.replace(' ','_') #replace all space with underscore"
   ]
  },
  {
   "cell_type": "code",
   "execution_count": 8,
   "metadata": {
    "colab": {
     "base_uri": "https://localhost:8080/",
     "height": 306
    },
    "executionInfo": {
     "elapsed": 365,
     "status": "error",
     "timestamp": 1634023890489,
     "user": {
      "displayName": "Nor Rahayu Supaat",
      "photoUrl": "https://lh3.googleusercontent.com/a-/AOh14GiNLn39OzPdfrtE81mL0n1WHHhRDHZXqsv686dpkSg=s64",
      "userId": "01586812581137415114"
     },
     "user_tz": -480
    },
    "id": "f3kLH8VqKHfw",
    "outputId": "f7cd48d4-30c4-4dd8-fef0-15e5664d15a8"
   },
   "outputs": [
    {
     "name": "stdout",
     "output_type": "stream",
     "text": [
      "<class 'pandas.core.frame.DataFrame'>\n",
      "RangeIndex: 2051 entries, 0 to 2050\n",
      "Data columns (total 81 columns):\n",
      " #   Column           Non-Null Count  Dtype  \n",
      "---  ------           --------------  -----  \n",
      " 0   id               2051 non-null   int64  \n",
      " 1   pid              2051 non-null   int64  \n",
      " 2   ms_subclass      2051 non-null   int64  \n",
      " 3   ms_zoning        2051 non-null   object \n",
      " 4   lot_frontage     1721 non-null   float64\n",
      " 5   lot_area         2051 non-null   int64  \n",
      " 6   street           2051 non-null   object \n",
      " 7   alley            140 non-null    object \n",
      " 8   lot_shape        2051 non-null   object \n",
      " 9   land_contour     2051 non-null   object \n",
      " 10  utilities        2051 non-null   object \n",
      " 11  lot_config       2051 non-null   object \n",
      " 12  land_slope       2051 non-null   object \n",
      " 13  neighborhood     2051 non-null   object \n",
      " 14  condition_1      2051 non-null   object \n",
      " 15  condition_2      2051 non-null   object \n",
      " 16  bldg_type        2051 non-null   object \n",
      " 17  house_style      2051 non-null   object \n",
      " 18  overall_qual     2051 non-null   int64  \n",
      " 19  overall_cond     2051 non-null   int64  \n",
      " 20  year_built       2051 non-null   int64  \n",
      " 21  year_remod/add   2051 non-null   int64  \n",
      " 22  roof_style       2051 non-null   object \n",
      " 23  roof_matl        2051 non-null   object \n",
      " 24  exterior_1st     2051 non-null   object \n",
      " 25  exterior_2nd     2051 non-null   object \n",
      " 26  mas_vnr_type     2029 non-null   object \n",
      " 27  mas_vnr_area     2029 non-null   float64\n",
      " 28  exter_qual       2051 non-null   object \n",
      " 29  exter_cond       2051 non-null   object \n",
      " 30  foundation       2051 non-null   object \n",
      " 31  bsmt_qual        1996 non-null   object \n",
      " 32  bsmt_cond        1996 non-null   object \n",
      " 33  bsmt_exposure    1993 non-null   object \n",
      " 34  bsmtfin_type_1   1996 non-null   object \n",
      " 35  bsmtfin_sf_1     2050 non-null   float64\n",
      " 36  bsmtfin_type_2   1995 non-null   object \n",
      " 37  bsmtfin_sf_2     2050 non-null   float64\n",
      " 38  bsmt_unf_sf      2050 non-null   float64\n",
      " 39  total_bsmt_sf    2050 non-null   float64\n",
      " 40  heating          2051 non-null   object \n",
      " 41  heating_qc       2051 non-null   object \n",
      " 42  central_air      2051 non-null   object \n",
      " 43  electrical       2051 non-null   object \n",
      " 44  1st_flr_sf       2051 non-null   int64  \n",
      " 45  2nd_flr_sf       2051 non-null   int64  \n",
      " 46  low_qual_fin_sf  2051 non-null   int64  \n",
      " 47  gr_liv_area      2051 non-null   int64  \n",
      " 48  bsmt_full_bath   2049 non-null   float64\n",
      " 49  bsmt_half_bath   2049 non-null   float64\n",
      " 50  full_bath        2051 non-null   int64  \n",
      " 51  half_bath        2051 non-null   int64  \n",
      " 52  bedroom_abvgr    2051 non-null   int64  \n",
      " 53  kitchen_abvgr    2051 non-null   int64  \n",
      " 54  kitchen_qual     2051 non-null   object \n",
      " 55  totrms_abvgrd    2051 non-null   int64  \n",
      " 56  functional       2051 non-null   object \n",
      " 57  fireplaces       2051 non-null   int64  \n",
      " 58  fireplace_qu     1051 non-null   object \n",
      " 59  garage_type      1938 non-null   object \n",
      " 60  garage_yr_blt    1937 non-null   float64\n",
      " 61  garage_finish    1937 non-null   object \n",
      " 62  garage_cars      2050 non-null   float64\n",
      " 63  garage_area      2050 non-null   float64\n",
      " 64  garage_qual      1937 non-null   object \n",
      " 65  garage_cond      1937 non-null   object \n",
      " 66  paved_drive      2051 non-null   object \n",
      " 67  wood_deck_sf     2051 non-null   int64  \n",
      " 68  open_porch_sf    2051 non-null   int64  \n",
      " 69  enclosed_porch   2051 non-null   int64  \n",
      " 70  3ssn_porch       2051 non-null   int64  \n",
      " 71  screen_porch     2051 non-null   int64  \n",
      " 72  pool_area        2051 non-null   int64  \n",
      " 73  pool_qc          9 non-null      object \n",
      " 74  fence            400 non-null    object \n",
      " 75  misc_feature     65 non-null     object \n",
      " 76  misc_val         2051 non-null   int64  \n",
      " 77  mo_sold          2051 non-null   int64  \n",
      " 78  yr_sold          2051 non-null   int64  \n",
      " 79  sale_type        2051 non-null   object \n",
      " 80  saleprice        2051 non-null   int64  \n",
      "dtypes: float64(11), int64(28), object(42)\n",
      "memory usage: 1.3+ MB\n"
     ]
    }
   ],
   "source": [
    "df_train.info()"
   ]
  },
  {
   "cell_type": "markdown",
   "metadata": {},
   "source": [
    "The column names now contains only lower cases and underscores."
   ]
  },
  {
   "cell_type": "markdown",
   "metadata": {},
   "source": [
    "## Data Cleaning: Null Datas\n",
    "---\n",
    "\n",
    "Upon checking with the data dictionary, it appears that the null datas indicate that the features are not present in the house sold. Thus it is more prudent to simply replace these null values with zeroes."
   ]
  },
  {
   "cell_type": "code",
   "execution_count": 9,
   "metadata": {},
   "outputs": [],
   "source": [
    "df_train.fillna(0, inplace = True) #replace all null data with zeroes"
   ]
  },
  {
   "cell_type": "markdown",
   "metadata": {},
   "source": [
    "Check if there are still anymore null datas:"
   ]
  },
  {
   "cell_type": "code",
   "execution_count": 10,
   "metadata": {},
   "outputs": [
    {
     "data": {
      "text/plain": [
       "id              0\n",
       "pid             0\n",
       "ms_subclass     0\n",
       "ms_zoning       0\n",
       "lot_frontage    0\n",
       "               ..\n",
       "misc_val        0\n",
       "mo_sold         0\n",
       "yr_sold         0\n",
       "sale_type       0\n",
       "saleprice       0\n",
       "Length: 81, dtype: int64"
      ]
     },
     "execution_count": 10,
     "metadata": {},
     "output_type": "execute_result"
    }
   ],
   "source": [
    "df_train.isnull().sum()"
   ]
  },
  {
   "cell_type": "markdown",
   "metadata": {},
   "source": [
    "We have cleaned up the null data."
   ]
  },
  {
   "cell_type": "markdown",
   "metadata": {},
   "source": [
    "## Data Cleaning: Setup Number Ratings\n",
    "--- \n",
    "\n",
    "From the data dictionary, we find that there are several ratings that are just number ratings set in the form of a string. Thus we are able to swap them out to an integer rating to help better our data analysis."
   ]
  },
  {
   "cell_type": "markdown",
   "metadata": {},
   "source": [
    "#### Set Functional column to a rating number:  \n",
    "7 - Typ Typical Functionality  \n",
    "6 - Min1 Minor Deductions 1  \n",
    "5 - Min2 Minor Deductions 2  \n",
    "4 - Mod Moderate Deductions  \n",
    "3 - Maj1 Major Deductions 1  \n",
    "2 - Maj2 Major Deductions 2  \n",
    "1 - Sev Severely Damaged  \n",
    "0 - Sal Salvage only  "
   ]
  },
  {
   "cell_type": "code",
   "execution_count": 11,
   "metadata": {},
   "outputs": [
    {
     "data": {
      "text/plain": [
       "0    7\n",
       "1    7\n",
       "2    7\n",
       "3    7\n",
       "4    7\n",
       "Name: functional, dtype: int64"
      ]
     },
     "execution_count": 11,
     "metadata": {},
     "output_type": "execute_result"
    }
   ],
   "source": [
    "df_train['functional'].replace('Typ',7, inplace = True)\n",
    "df_train['functional'].replace('Min1',6, inplace = True)\n",
    "df_train['functional'].replace('Min2',5, inplace = True)\n",
    "df_train['functional'].replace('Mod',4, inplace = True)\n",
    "df_train['functional'].replace('Maj1',3, inplace = True)\n",
    "df_train['functional'].replace('Maj2',2, inplace = True)\n",
    "df_train['functional'].replace('Sev',1, inplace = True)\n",
    "df_train['functional'].replace('Sal',0, inplace = True)\n",
    "df_train['functional'].head()"
   ]
  },
  {
   "cell_type": "markdown",
   "metadata": {},
   "source": [
    "#### Set garage_cond to a rating number:\n",
    "5 - Ex Excellent  \n",
    "4 - Gd Good  \n",
    "3 - TA Average/Typical  \n",
    "2 - Fa Fair  \n",
    "1 - Po Poor  \n",
    "0 - Na No Garage  "
   ]
  },
  {
   "cell_type": "code",
   "execution_count": 12,
   "metadata": {},
   "outputs": [
    {
     "data": {
      "text/plain": [
       "0    3\n",
       "1    3\n",
       "2    3\n",
       "3    3\n",
       "4    3\n",
       "Name: garage_cond, dtype: int64"
      ]
     },
     "execution_count": 12,
     "metadata": {},
     "output_type": "execute_result"
    }
   ],
   "source": [
    "df_train['garage_cond'].replace('Ex',5, inplace = True)\n",
    "df_train['garage_cond'].replace('Gd',4, inplace = True)\n",
    "df_train['garage_cond'].replace('TA',3, inplace = True)\n",
    "df_train['garage_cond'].replace('Fa',2, inplace = True)\n",
    "df_train['garage_cond'].replace('Po',1, inplace = True)\n",
    "df_train['garage_cond'].fillna(0, inplace = True)\n",
    "df_train['garage_cond'].head()"
   ]
  },
  {
   "cell_type": "markdown",
   "metadata": {},
   "source": [
    "#### CentralAir Data\n",
    "\n",
    "From Data Dictionary, it is clear that CentralAir is a yes or no field. We can set Yes to 1 and No to 0:"
   ]
  },
  {
   "cell_type": "code",
   "execution_count": 13,
   "metadata": {},
   "outputs": [
    {
     "data": {
      "text/plain": [
       "0    1\n",
       "1    1\n",
       "2    1\n",
       "3    1\n",
       "4    1\n",
       "Name: central_air, dtype: int64"
      ]
     },
     "execution_count": 13,
     "metadata": {},
     "output_type": "execute_result"
    }
   ],
   "source": [
    "df_train['central_air'].replace('Y',1, inplace = True)\n",
    "df_train['central_air'].replace('N',0, inplace = True)\n",
    "df_train['central_air'].head()"
   ]
  },
  {
   "cell_type": "markdown",
   "metadata": {},
   "source": [
    "CentralAir is now cleaned up."
   ]
  },
  {
   "cell_type": "markdown",
   "metadata": {},
   "source": [
    "#### paved_drive column\n",
    "Set paved_drive to an index as follows:  \n",
    "2 - Y Paved  \n",
    "1 - P Partial Pavement  \n",
    "0 - N Dirt/Gravel  "
   ]
  },
  {
   "cell_type": "code",
   "execution_count": 14,
   "metadata": {},
   "outputs": [
    {
     "data": {
      "text/plain": [
       "0    2\n",
       "1    2\n",
       "2    2\n",
       "3    2\n",
       "4    0\n",
       "Name: paved_drive, dtype: int64"
      ]
     },
     "execution_count": 14,
     "metadata": {},
     "output_type": "execute_result"
    }
   ],
   "source": [
    "df_train['paved_drive'].replace('Y',2, inplace = True)\n",
    "df_train['paved_drive'].replace('P',1, inplace = True)\n",
    "df_train['paved_drive'].replace('N',0, inplace = True)\n",
    "df_train['paved_drive'].fillna(0, inplace = True)\n",
    "df_train['paved_drive'].head()"
   ]
  },
  {
   "cell_type": "markdown",
   "metadata": {},
   "source": [
    "#### Set pool_qc to a rating number:\n",
    "4 - Ex Excellent  \n",
    "3 - Gd Good  \n",
    "2- TA Average/Typical  \n",
    "1 - Fa Fair   \n",
    "0 - Na No Pool "
   ]
  },
  {
   "cell_type": "code",
   "execution_count": 15,
   "metadata": {},
   "outputs": [
    {
     "data": {
      "text/plain": [
       "0    0\n",
       "1    0\n",
       "2    0\n",
       "3    0\n",
       "4    0\n",
       "Name: pool_qc, dtype: int64"
      ]
     },
     "execution_count": 15,
     "metadata": {},
     "output_type": "execute_result"
    }
   ],
   "source": [
    "df_train['pool_qc'].replace('Ex',4, inplace = True)\n",
    "df_train['pool_qc'].replace('Gd',3, inplace = True)\n",
    "df_train['pool_qc'].replace('TA',2, inplace = True)\n",
    "df_train['pool_qc'].replace('Fa',1, inplace = True)\n",
    "df_train['pool_qc'].fillna(0, inplace = True)\n",
    "df_train['pool_qc'].head()"
   ]
  },
  {
   "cell_type": "markdown",
   "metadata": {},
   "source": [
    "#### Set exter_qual to a rating number:\n",
    "5 - Ex Excellent  \n",
    "4 - Gd Good  \n",
    "3 - TA Average/Typical  \n",
    "2 - Fa Fair  \n",
    "1 - Po Poor  "
   ]
  },
  {
   "cell_type": "code",
   "execution_count": 16,
   "metadata": {},
   "outputs": [
    {
     "data": {
      "text/plain": [
       "0    4\n",
       "1    4\n",
       "2    3\n",
       "3    3\n",
       "4    3\n",
       "Name: exter_qual, dtype: int64"
      ]
     },
     "execution_count": 16,
     "metadata": {},
     "output_type": "execute_result"
    }
   ],
   "source": [
    "df_train['exter_qual'].replace('Ex',5, inplace = True)\n",
    "df_train['exter_qual'].replace('Gd',4, inplace = True)\n",
    "df_train['exter_qual'].replace('TA',3, inplace = True)\n",
    "df_train['exter_qual'].replace('Fa',2, inplace = True)\n",
    "df_train['exter_qual'].replace('Po',1, inplace = True)\n",
    "df_train['exter_qual'].head()"
   ]
  },
  {
   "cell_type": "markdown",
   "metadata": {},
   "source": [
    "#### Set exter_cond to a rating number:\n",
    "5 - Ex Excellent  \n",
    "4 - Gd Good  \n",
    "3 - TA Average/Typical  \n",
    "2 - Fa Fair  \n",
    "1 - Po Poor"
   ]
  },
  {
   "cell_type": "code",
   "execution_count": 17,
   "metadata": {},
   "outputs": [
    {
     "data": {
      "text/plain": [
       "0    3\n",
       "1    3\n",
       "2    4\n",
       "3    3\n",
       "4    3\n",
       "Name: exter_cond, dtype: int64"
      ]
     },
     "execution_count": 17,
     "metadata": {},
     "output_type": "execute_result"
    }
   ],
   "source": [
    "df_train['exter_cond'].replace('Ex',5, inplace = True)\n",
    "df_train['exter_cond'].replace('Gd',4, inplace = True)\n",
    "df_train['exter_cond'].replace('TA',3, inplace = True)\n",
    "df_train['exter_cond'].replace('Fa',2, inplace = True)\n",
    "df_train['exter_cond'].replace('Po',1, inplace = True)\n",
    "df_train['exter_cond'].head()"
   ]
  },
  {
   "attachments": {},
   "cell_type": "markdown",
   "metadata": {},
   "source": [
    "#### Set bsmt_qual to a rating number:  \n",
    "5 - Ex Excellent (100+ inches)  \n",
    "4 - Gd Good (90-99 inches)  \n",
    "3 - TA Typical (80-89 inches)  \n",
    "2 - Fa Fair (70-79 inches)  \n",
    "1 - Po Poor (<70 inches)  \n",
    "0 - NA No Basement"
   ]
  },
  {
   "cell_type": "code",
   "execution_count": 18,
   "metadata": {},
   "outputs": [
    {
     "data": {
      "text/plain": [
       "0    3\n",
       "1    4\n",
       "2    3\n",
       "3    4\n",
       "4    2\n",
       "Name: bsmt_qual, dtype: int64"
      ]
     },
     "execution_count": 18,
     "metadata": {},
     "output_type": "execute_result"
    }
   ],
   "source": [
    "df_train['bsmt_qual'].replace('Ex',5, inplace = True)\n",
    "df_train['bsmt_qual'].replace('Gd',4, inplace = True)\n",
    "df_train['bsmt_qual'].replace('TA',3, inplace = True)\n",
    "df_train['bsmt_qual'].replace('Fa',2, inplace = True)\n",
    "df_train['bsmt_qual'].replace('Po',1, inplace = True)\n",
    "df_train['bsmt_qual'].fillna(0, inplace = True)\n",
    "df_train['bsmt_qual'].head()"
   ]
  },
  {
   "cell_type": "markdown",
   "metadata": {},
   "source": [
    "#### Set bsmt_cond to a rating number:  \n",
    "5 - Ex Excellent  \n",
    "4 - Gd Good  \n",
    "3 - TA Typical - slight dampness allowed  \n",
    "2 - Fa Fair - dampness or some cracking or settling  \n",
    "1 - Po Poor - Severe cracking, settling, or wetness  \n",
    "0 - NA No Basement"
   ]
  },
  {
   "cell_type": "code",
   "execution_count": 19,
   "metadata": {},
   "outputs": [
    {
     "data": {
      "text/plain": [
       "0    3\n",
       "1    3\n",
       "2    3\n",
       "3    3\n",
       "4    4\n",
       "Name: bsmt_cond, dtype: int64"
      ]
     },
     "execution_count": 19,
     "metadata": {},
     "output_type": "execute_result"
    }
   ],
   "source": [
    "df_train['bsmt_cond'].replace('Ex',5, inplace = True)\n",
    "df_train['bsmt_cond'].replace('Gd',4, inplace = True)\n",
    "df_train['bsmt_cond'].replace('TA',3, inplace = True)\n",
    "df_train['bsmt_cond'].replace('Fa',2, inplace = True)\n",
    "df_train['bsmt_cond'].replace('Po',1, inplace = True)\n",
    "df_train['bsmt_cond'].fillna(0, inplace = True)\n",
    "df_train['bsmt_cond'].head()"
   ]
  },
  {
   "cell_type": "markdown",
   "metadata": {},
   "source": [
    "#### Set bsmt_exposure to a rating number:  \n",
    "4 - Gd Good Exposure  \n",
    "3 - Av Average Exposure (split levels or foyers typically score average or above) \n",
    "2 - Mn Mimimum Exposure  \n",
    "1 - No No Exposure  \n",
    "0 - NA No Basement  "
   ]
  },
  {
   "cell_type": "code",
   "execution_count": 20,
   "metadata": {},
   "outputs": [
    {
     "data": {
      "text/plain": [
       "0    1\n",
       "1    1\n",
       "2    1\n",
       "3    1\n",
       "4    1\n",
       "Name: bsmt_exposure, dtype: int64"
      ]
     },
     "execution_count": 20,
     "metadata": {},
     "output_type": "execute_result"
    }
   ],
   "source": [
    "df_train['bsmt_exposure'].replace('Gd',4, inplace = True)\n",
    "df_train['bsmt_exposure'].replace('Av',3, inplace = True)\n",
    "df_train['bsmt_exposure'].replace('Mn',2, inplace = True)\n",
    "df_train['bsmt_exposure'].replace('No',1, inplace = True)\n",
    "df_train['bsmt_exposure'].fillna(0, inplace = True)\n",
    "df_train['bsmt_exposure'].head()"
   ]
  },
  {
   "cell_type": "markdown",
   "metadata": {},
   "source": [
    "#### Set bsmtfin_type_1 to a rating number:  \n",
    "6 - GLQ Good Living Quarters  \n",
    "5 - ALQ Average Living Quarters  \n",
    "4 - BLQ Below Average Living Quarters  \n",
    "3 - Rec Average Rec Room  \n",
    "2 - LwQ Low Quality  \n",
    "1 - Unf Unfinshed  \n",
    "0 - NA No Basement  "
   ]
  },
  {
   "cell_type": "code",
   "execution_count": 21,
   "metadata": {},
   "outputs": [
    {
     "data": {
      "text/plain": [
       "0    6\n",
       "1    6\n",
       "2    6\n",
       "3    1\n",
       "4    1\n",
       "Name: bsmtfin_type_1, dtype: int64"
      ]
     },
     "execution_count": 21,
     "metadata": {},
     "output_type": "execute_result"
    }
   ],
   "source": [
    "df_train['bsmtfin_type_1'].replace('GLQ',6, inplace = True)\n",
    "df_train['bsmtfin_type_1'].replace('ALQ',5, inplace = True)\n",
    "df_train['bsmtfin_type_1'].replace('BLQ',4, inplace = True)\n",
    "df_train['bsmtfin_type_1'].replace('Rec',3, inplace = True)\n",
    "df_train['bsmtfin_type_1'].replace('LwQ',2, inplace = True)\n",
    "df_train['bsmtfin_type_1'].replace('Unf',1, inplace = True)\n",
    "df_train['bsmtfin_type_1'].fillna(0, inplace = True)\n",
    "df_train['bsmtfin_type_1'].head()"
   ]
  },
  {
   "cell_type": "markdown",
   "metadata": {},
   "source": [
    "#### Set bsmtfin_type_2 to a rating number:  \n",
    "6 - GLQ Good Living Quarters  \n",
    "5 - ALQ Average Living Quarters  \n",
    "4 - BLQ Below Average Living Quarters  \n",
    "3 - Rec Average Rec Room  \n",
    "2 - LwQ Low Quality  \n",
    "1 - Unf Unfinshed  \n",
    "0 - NA No Basement  "
   ]
  },
  {
   "cell_type": "code",
   "execution_count": 22,
   "metadata": {},
   "outputs": [
    {
     "data": {
      "text/plain": [
       "0    1\n",
       "1    1\n",
       "2    1\n",
       "3    1\n",
       "4    1\n",
       "Name: bsmtfin_type_2, dtype: int64"
      ]
     },
     "execution_count": 22,
     "metadata": {},
     "output_type": "execute_result"
    }
   ],
   "source": [
    "df_train['bsmtfin_type_2'].replace('GLQ',6, inplace = True)\n",
    "df_train['bsmtfin_type_2'].replace('ALQ',5, inplace = True)\n",
    "df_train['bsmtfin_type_2'].replace('BLQ',4, inplace = True)\n",
    "df_train['bsmtfin_type_2'].replace('Rec',3, inplace = True)\n",
    "df_train['bsmtfin_type_2'].replace('LwQ',2, inplace = True)\n",
    "df_train['bsmtfin_type_2'].replace('Unf',1, inplace = True)\n",
    "df_train['bsmtfin_type_2'].fillna(0, inplace = True)\n",
    "df_train['bsmtfin_type_2'].head()"
   ]
  },
  {
   "cell_type": "markdown",
   "metadata": {},
   "source": [
    "#### Set heating_qc to a rating number:\n",
    "5 - Ex Excellent  \n",
    "4 - Gd Good  \n",
    "3 - TA Average/Typical  \n",
    "2 - Fa Fair  \n",
    "1 - Po Poor  "
   ]
  },
  {
   "cell_type": "code",
   "execution_count": 23,
   "metadata": {},
   "outputs": [
    {
     "data": {
      "text/plain": [
       "0    5\n",
       "1    5\n",
       "2    3\n",
       "3    4\n",
       "4    3\n",
       "Name: heating_qc, dtype: int64"
      ]
     },
     "execution_count": 23,
     "metadata": {},
     "output_type": "execute_result"
    }
   ],
   "source": [
    "df_train['heating_qc'].replace('Ex',5, inplace = True)\n",
    "df_train['heating_qc'].replace('Gd',4, inplace = True)\n",
    "df_train['heating_qc'].replace('TA',3, inplace = True)\n",
    "df_train['heating_qc'].replace('Fa',2, inplace = True)\n",
    "df_train['heating_qc'].replace('Po',1, inplace = True)\n",
    "df_train['heating_qc'].head()"
   ]
  },
  {
   "cell_type": "markdown",
   "metadata": {},
   "source": [
    "#### Set kitchen_qual to a rating number:\n",
    "5 - Ex Excellent  \n",
    "4 - Gd Good  \n",
    "3 - TA Average/Typical  \n",
    "2 - Fa Fair  \n",
    "1 - Po Poor  "
   ]
  },
  {
   "cell_type": "code",
   "execution_count": 24,
   "metadata": {},
   "outputs": [
    {
     "data": {
      "text/plain": [
       "0    4\n",
       "1    4\n",
       "2    4\n",
       "3    3\n",
       "4    3\n",
       "Name: kitchen_qual, dtype: int64"
      ]
     },
     "execution_count": 24,
     "metadata": {},
     "output_type": "execute_result"
    }
   ],
   "source": [
    "df_train['kitchen_qual'].replace('Ex',5, inplace = True)\n",
    "df_train['kitchen_qual'].replace('Gd',4, inplace = True)\n",
    "df_train['kitchen_qual'].replace('TA',3, inplace = True)\n",
    "df_train['kitchen_qual'].replace('Fa',2, inplace = True)\n",
    "df_train['kitchen_qual'].replace('Po',1, inplace = True)\n",
    "df_train['kitchen_qual'].head()"
   ]
  },
  {
   "cell_type": "markdown",
   "metadata": {},
   "source": [
    "#### Set fireplace_qu to a rating number:\n",
    "5 - Ex Excellent - Exceptional Masonry Fireplace  \n",
    "4 - Gd Good - Masonry Fireplace in main level  \n",
    "3 - TA Average - Prefabricated Fireplace in main living area or Masonry Fireplace in basement  \n",
    "2 - Fa Fair - Prefabricated Fireplace in basement  \n",
    "1 - Po Poor - Ben Franklin Stove  \n",
    "0 - NA No Fireplace"
   ]
  },
  {
   "cell_type": "code",
   "execution_count": 25,
   "metadata": {},
   "outputs": [
    {
     "data": {
      "text/plain": [
       "0    0\n",
       "1    3\n",
       "2    0\n",
       "3    0\n",
       "4    0\n",
       "Name: fireplace_qu, dtype: int64"
      ]
     },
     "execution_count": 25,
     "metadata": {},
     "output_type": "execute_result"
    }
   ],
   "source": [
    "df_train['fireplace_qu'].replace('Ex',5, inplace = True)\n",
    "df_train['fireplace_qu'].replace('Gd',4, inplace = True)\n",
    "df_train['fireplace_qu'].replace('TA',3, inplace = True)\n",
    "df_train['fireplace_qu'].replace('Fa',2, inplace = True)\n",
    "df_train['fireplace_qu'].replace('Po',1, inplace = True)\n",
    "df_train['fireplace_qu'].fillna(0, inplace = True)\n",
    "df_train['fireplace_qu'].head()"
   ]
  },
  {
   "cell_type": "markdown",
   "metadata": {},
   "source": [
    "#### Set garage_finish to a rating number:\n",
    "3 - Fin Finished  \n",
    "2 - RFn Rough Finished  \n",
    "1 - Unf Unfinished  \n",
    "0 - NA No Garage"
   ]
  },
  {
   "cell_type": "code",
   "execution_count": 26,
   "metadata": {
    "scrolled": true
   },
   "outputs": [
    {
     "data": {
      "text/plain": [
       "0    2\n",
       "1    2\n",
       "2    1\n",
       "3    3\n",
       "4    1\n",
       "Name: garage_finish, dtype: int64"
      ]
     },
     "execution_count": 26,
     "metadata": {},
     "output_type": "execute_result"
    }
   ],
   "source": [
    "df_train['garage_finish'].replace('Fin',3, inplace = True)\n",
    "df_train['garage_finish'].replace('RFn',2, inplace = True)\n",
    "df_train['garage_finish'].replace('Unf',1, inplace = True)\n",
    "df_train['garage_finish'].fillna(0,inplace = True)\n",
    "df_train['garage_finish'].head()"
   ]
  },
  {
   "cell_type": "markdown",
   "metadata": {},
   "source": [
    "#### Set garage_qual to a rating number:\n",
    "5 - Ex Excellent  \n",
    "4 - Gd Good  \n",
    "3 - TA Average/Typical  \n",
    "2 - Fa Fair  \n",
    "1 - Po Poor  \n",
    "0 - Na No Garage  "
   ]
  },
  {
   "cell_type": "code",
   "execution_count": 27,
   "metadata": {},
   "outputs": [
    {
     "data": {
      "text/plain": [
       "0    3\n",
       "1    3\n",
       "2    3\n",
       "3    3\n",
       "4    3\n",
       "Name: garage_qual, dtype: int64"
      ]
     },
     "execution_count": 27,
     "metadata": {},
     "output_type": "execute_result"
    }
   ],
   "source": [
    "df_train['garage_qual'].replace('Ex',5, inplace = True)\n",
    "df_train['garage_qual'].replace('Gd',4, inplace = True)\n",
    "df_train['garage_qual'].replace('TA',3, inplace = True)\n",
    "df_train['garage_qual'].replace('Fa',2, inplace = True)\n",
    "df_train['garage_qual'].replace('Po',1, inplace = True)\n",
    "df_train['garage_qual'].fillna(0,inplace = True)\n",
    "df_train['garage_qual'].head()"
   ]
  },
  {
   "cell_type": "markdown",
   "metadata": {},
   "source": [
    "#### Set fence to a rating number:\n",
    "4 - GdPrv Good Privacy  \n",
    "3 - MnPrv Minimum Privacy  \n",
    "2 - GdWo Good Wood  \n",
    "1 - MnWw Minimum Wood/Wire  \t\n",
    "0 - NA No Fence  "
   ]
  },
  {
   "cell_type": "code",
   "execution_count": 28,
   "metadata": {},
   "outputs": [
    {
     "data": {
      "text/plain": [
       "0    0\n",
       "1    0\n",
       "2    0\n",
       "3    0\n",
       "4    0\n",
       "Name: fence, dtype: int64"
      ]
     },
     "execution_count": 28,
     "metadata": {},
     "output_type": "execute_result"
    }
   ],
   "source": [
    "df_train['fence'].replace('GdPrv',4, inplace = True)\n",
    "df_train['fence'].replace('MnPrv',3, inplace = True)\n",
    "df_train['fence'].replace('GdWo',2, inplace = True)\n",
    "df_train['fence'].replace('MnWw',1, inplace = True)\n",
    "df_train['fence'].fillna(0,inplace = True)\n",
    "df_train['fence'].head()"
   ]
  },
  {
   "cell_type": "markdown",
   "metadata": {},
   "source": [
    "Checking the data types to see if they match."
   ]
  },
  {
   "cell_type": "code",
   "execution_count": 29,
   "metadata": {
    "scrolled": false
   },
   "outputs": [
    {
     "name": "stdout",
     "output_type": "stream",
     "text": [
      "<class 'pandas.core.frame.DataFrame'>\n",
      "RangeIndex: 2051 entries, 0 to 2050\n",
      "Data columns (total 81 columns):\n",
      " #   Column           Non-Null Count  Dtype  \n",
      "---  ------           --------------  -----  \n",
      " 0   id               2051 non-null   int64  \n",
      " 1   pid              2051 non-null   int64  \n",
      " 2   ms_subclass      2051 non-null   int64  \n",
      " 3   ms_zoning        2051 non-null   object \n",
      " 4   lot_frontage     2051 non-null   float64\n",
      " 5   lot_area         2051 non-null   int64  \n",
      " 6   street           2051 non-null   object \n",
      " 7   alley            2051 non-null   object \n",
      " 8   lot_shape        2051 non-null   object \n",
      " 9   land_contour     2051 non-null   object \n",
      " 10  utilities        2051 non-null   object \n",
      " 11  lot_config       2051 non-null   object \n",
      " 12  land_slope       2051 non-null   object \n",
      " 13  neighborhood     2051 non-null   object \n",
      " 14  condition_1      2051 non-null   object \n",
      " 15  condition_2      2051 non-null   object \n",
      " 16  bldg_type        2051 non-null   object \n",
      " 17  house_style      2051 non-null   object \n",
      " 18  overall_qual     2051 non-null   int64  \n",
      " 19  overall_cond     2051 non-null   int64  \n",
      " 20  year_built       2051 non-null   int64  \n",
      " 21  year_remod/add   2051 non-null   int64  \n",
      " 22  roof_style       2051 non-null   object \n",
      " 23  roof_matl        2051 non-null   object \n",
      " 24  exterior_1st     2051 non-null   object \n",
      " 25  exterior_2nd     2051 non-null   object \n",
      " 26  mas_vnr_type     2051 non-null   object \n",
      " 27  mas_vnr_area     2051 non-null   float64\n",
      " 28  exter_qual       2051 non-null   int64  \n",
      " 29  exter_cond       2051 non-null   int64  \n",
      " 30  foundation       2051 non-null   object \n",
      " 31  bsmt_qual        2051 non-null   int64  \n",
      " 32  bsmt_cond        2051 non-null   int64  \n",
      " 33  bsmt_exposure    2051 non-null   int64  \n",
      " 34  bsmtfin_type_1   2051 non-null   int64  \n",
      " 35  bsmtfin_sf_1     2051 non-null   float64\n",
      " 36  bsmtfin_type_2   2051 non-null   int64  \n",
      " 37  bsmtfin_sf_2     2051 non-null   float64\n",
      " 38  bsmt_unf_sf      2051 non-null   float64\n",
      " 39  total_bsmt_sf    2051 non-null   float64\n",
      " 40  heating          2051 non-null   object \n",
      " 41  heating_qc       2051 non-null   int64  \n",
      " 42  central_air      2051 non-null   int64  \n",
      " 43  electrical       2051 non-null   object \n",
      " 44  1st_flr_sf       2051 non-null   int64  \n",
      " 45  2nd_flr_sf       2051 non-null   int64  \n",
      " 46  low_qual_fin_sf  2051 non-null   int64  \n",
      " 47  gr_liv_area      2051 non-null   int64  \n",
      " 48  bsmt_full_bath   2051 non-null   float64\n",
      " 49  bsmt_half_bath   2051 non-null   float64\n",
      " 50  full_bath        2051 non-null   int64  \n",
      " 51  half_bath        2051 non-null   int64  \n",
      " 52  bedroom_abvgr    2051 non-null   int64  \n",
      " 53  kitchen_abvgr    2051 non-null   int64  \n",
      " 54  kitchen_qual     2051 non-null   int64  \n",
      " 55  totrms_abvgrd    2051 non-null   int64  \n",
      " 56  functional       2051 non-null   int64  \n",
      " 57  fireplaces       2051 non-null   int64  \n",
      " 58  fireplace_qu     2051 non-null   int64  \n",
      " 59  garage_type      2051 non-null   object \n",
      " 60  garage_yr_blt    2051 non-null   float64\n",
      " 61  garage_finish    2051 non-null   int64  \n",
      " 62  garage_cars      2051 non-null   float64\n",
      " 63  garage_area      2051 non-null   float64\n",
      " 64  garage_qual      2051 non-null   int64  \n",
      " 65  garage_cond      2051 non-null   int64  \n",
      " 66  paved_drive      2051 non-null   int64  \n",
      " 67  wood_deck_sf     2051 non-null   int64  \n",
      " 68  open_porch_sf    2051 non-null   int64  \n",
      " 69  enclosed_porch   2051 non-null   int64  \n",
      " 70  3ssn_porch       2051 non-null   int64  \n",
      " 71  screen_porch     2051 non-null   int64  \n",
      " 72  pool_area        2051 non-null   int64  \n",
      " 73  pool_qc          2051 non-null   int64  \n",
      " 74  fence            2051 non-null   int64  \n",
      " 75  misc_feature     2051 non-null   object \n",
      " 76  misc_val         2051 non-null   int64  \n",
      " 77  mo_sold          2051 non-null   int64  \n",
      " 78  yr_sold          2051 non-null   int64  \n",
      " 79  sale_type        2051 non-null   object \n",
      " 80  saleprice        2051 non-null   int64  \n",
      "dtypes: float64(11), int64(46), object(24)\n",
      "memory usage: 1.3+ MB\n"
     ]
    }
   ],
   "source": [
    "df_train.info()"
   ]
  },
  {
   "cell_type": "markdown",
   "metadata": {},
   "source": [
    "We have set quite a number of cells to a usable integer type data. The rest likely will have to be via dummy columns."
   ]
  },
  {
   "cell_type": "markdown",
   "metadata": {},
   "source": [
    "# Sneak EDA\n",
    "---\n",
    "Let's just get a sneak peak of our heatmap to peek at our data. "
   ]
  },
  {
   "cell_type": "code",
   "execution_count": 30,
   "metadata": {
    "scrolled": false
   },
   "outputs": [
    {
     "data": {
      "image/png": "[encoded data removed]",
      "text/plain": [
       "<Figure size 1080x1440 with 2 Axes>"
      ]
     },
     "metadata": {},
     "output_type": "display_data"
    }
   ],
   "source": [
    "sns.set(rc = {'figure.figsize':(15,20)}, font_scale = 1)\n",
    "sns.heatmap(df_train.corr(), annot = False);"
   ]
  },
  {
   "cell_type": "markdown",
   "metadata": {},
   "source": [
    "There seem to be quite a number of variables that are strongly correlated with each other. We will handle some of the more important ones in our EDA. For now we will focus on cleaning the data up."
   ]
  },
  {
   "cell_type": "markdown",
   "metadata": {},
   "source": [
    "## Data Cleaning: Setting Dummy Variables\n",
    "---  \n",
    "There are a number of data that are strings that we cannot easily append a number to. Thus it will be better to set them to a dummy variable to better analyse them.\n",
    "\n",
    "Note that the methodology for all the dummy variables is the same, in which the dummy variable is set using the get_dummies function into a relevant temporary DataFrame, in which the temporary DataFrame is concatenated into df_train, and the dummied column will then be removed from df_train. "
   ]
  },
  {
   "cell_type": "code",
   "execution_count": 31,
   "metadata": {
    "scrolled": false
   },
   "outputs": [
    {
     "data": {
      "text/plain": [
       "Index(['ms_zoning', 'street', 'alley', 'lot_shape', 'land_contour',\n",
       "       'utilities', 'lot_config', 'land_slope', 'neighborhood', 'condition_1',\n",
       "       'condition_2', 'bldg_type', 'house_style', 'roof_style', 'roof_matl',\n",
       "       'exterior_1st', 'exterior_2nd', 'mas_vnr_type', 'foundation', 'heating',\n",
       "       'electrical', 'garage_type', 'misc_feature', 'sale_type'],\n",
       "      dtype='object')"
      ]
     },
     "execution_count": 31,
     "metadata": {},
     "output_type": "execute_result"
    }
   ],
   "source": [
    "df_train.select_dtypes('object').columns"
   ]
  },
  {
   "cell_type": "markdown",
   "metadata": {},
   "source": [
    "These are the columns that we will need to dummify as they are not ratings and cannot be set to a number easily. We will dummify them in the above order."
   ]
  },
  {
   "cell_type": "markdown",
   "metadata": {},
   "source": [
    "#### ms_zoning column:\n",
    "Set ms_zoning to a dummy variable"
   ]
  },
  {
   "cell_type": "code",
   "execution_count": 32,
   "metadata": {
    "scrolled": true
   },
   "outputs": [
    {
     "name": "stdout",
     "output_type": "stream",
     "text": [
      "MS Zoning data has been concatenated.\n"
     ]
    }
   ],
   "source": [
    "mzon_pd = pd.get_dummies(df_train['ms_zoning'], dummy_na = False)\n",
    "mzon_pd = mzon_pd.add_suffix('_mzon')\n",
    "df_train = pd.concat([df_train, mzon_pd], axis = 1)\n",
    "print(\"MS Zoning data has been concatenated.\")\n",
    "df_train.drop(columns = 'ms_zoning', inplace = True)"
   ]
  },
  {
   "cell_type": "markdown",
   "metadata": {},
   "source": [
    "#### Street column:  \n",
    "Set Street Access Data with dummy columns:"
   ]
  },
  {
   "cell_type": "code",
   "execution_count": 33,
   "metadata": {},
   "outputs": [
    {
     "name": "stdout",
     "output_type": "stream",
     "text": [
      "Street data has been concatenated.\n"
     ]
    }
   ],
   "source": [
    "strt_pd = pd.get_dummies(df_train['street'], dummy_na = False)\n",
    "strt_pd = strt_pd.add_suffix('_strt')\n",
    "df_train = pd.concat([df_train, strt_pd], axis = 1)\n",
    "print(\"Street data has been concatenated.\")\n",
    "df_train.drop(columns = 'street', inplace = True)"
   ]
  },
  {
   "cell_type": "markdown",
   "metadata": {},
   "source": [
    "#### Alley Data  \n",
    "For alley column, it is either Gravel or Paved. If none are present, there is no alley access. I will be creating a dummy column to address this with an integer instead."
   ]
  },
  {
   "cell_type": "code",
   "execution_count": 34,
   "metadata": {},
   "outputs": [],
   "source": [
    "alley_dum_pd = pd.get_dummies(df_train['alley'], dummy_na = False) #creating a dummy pd for alley column\n",
    "df_train = pd.concat([df_train, alley_dum_pd], axis = 1) #concatenating by right join both dataframes\n",
    "df_train.drop(columns = 'alley', inplace = True) #drop the dummied column"
   ]
  },
  {
   "cell_type": "markdown",
   "metadata": {},
   "source": [
    "Alley String column is now cleared up into dummy variables."
   ]
  },
  {
   "cell_type": "markdown",
   "metadata": {},
   "source": [
    "#### lot_shape column\n",
    "Set lot_shape to a dummy variable"
   ]
  },
  {
   "cell_type": "code",
   "execution_count": 35,
   "metadata": {
    "scrolled": true
   },
   "outputs": [
    {
     "name": "stdout",
     "output_type": "stream",
     "text": [
      "Lot Config data has been concatenated.\n"
     ]
    }
   ],
   "source": [
    "ltsp_pd = pd.get_dummies(df_train['lot_shape'], dummy_na = False)\n",
    "ltsp_pd = ltsp_pd.add_suffix('_ltsp')\n",
    "df_train = pd.concat([df_train, ltsp_pd], axis = 1)\n",
    "print(\"Lot Config data has been concatenated.\")\n",
    "df_train.drop(columns = 'lot_shape', inplace = True)"
   ]
  },
  {
   "cell_type": "markdown",
   "metadata": {},
   "source": [
    "#### land_contour column\n",
    "Set land_contour to a dummy variable"
   ]
  },
  {
   "cell_type": "code",
   "execution_count": 36,
   "metadata": {
    "scrolled": true
   },
   "outputs": [
    {
     "name": "stdout",
     "output_type": "stream",
     "text": [
      "Land Contour data has been concatenated.\n"
     ]
    }
   ],
   "source": [
    "lndct_pd = pd.get_dummies(df_train['land_contour'], dummy_na = False)\n",
    "lndct_pd = lndct_pd.add_suffix('_lndct')\n",
    "df_train = pd.concat([df_train, lndct_pd], axis = 1)\n",
    "print(\"Land Contour data has been concatenated.\")\n",
    "df_train.drop(columns = 'land_contour', inplace = True)"
   ]
  },
  {
   "cell_type": "markdown",
   "metadata": {},
   "source": [
    "#### Utilities column:  \n",
    "Set utilities with dummy columns:"
   ]
  },
  {
   "cell_type": "code",
   "execution_count": 37,
   "metadata": {},
   "outputs": [
    {
     "name": "stdout",
     "output_type": "stream",
     "text": [
      "Utilities data has been concatenated.\n"
     ]
    }
   ],
   "source": [
    "util_pd = pd.get_dummies(df_train['utilities'], dummy_na = False)\n",
    "util_pd = util_pd.add_suffix('_util')\n",
    "df_train = pd.concat([df_train, util_pd], axis = 1)\n",
    "print(\"Utilities data has been concatenated.\")\n",
    "df_train.drop(columns = 'utilities', inplace = True)"
   ]
  },
  {
   "cell_type": "markdown",
   "metadata": {},
   "source": [
    "#### lot_config column\n",
    "Set lot_config to a dummy variable"
   ]
  },
  {
   "cell_type": "code",
   "execution_count": 38,
   "metadata": {},
   "outputs": [
    {
     "name": "stdout",
     "output_type": "stream",
     "text": [
      "Lot Config data has been concatenated.\n"
     ]
    }
   ],
   "source": [
    "ltcg_pd = pd.get_dummies(df_train['lot_config'], dummy_na = False)\n",
    "ltcg_pd = ltcg_pd.add_suffix('_ltcg')\n",
    "df_train = pd.concat([df_train, ltcg_pd], axis = 1)\n",
    "print(\"Lot Config data has been concatenated.\")\n",
    "df_train.drop(columns = 'lot_config', inplace = True)"
   ]
  },
  {
   "cell_type": "markdown",
   "metadata": {},
   "source": [
    "#### landslope column\n",
    "Set landslope with dummy variables:"
   ]
  },
  {
   "cell_type": "code",
   "execution_count": 39,
   "metadata": {
    "scrolled": true
   },
   "outputs": [
    {
     "name": "stdout",
     "output_type": "stream",
     "text": [
      "Land Slope data has been concatenated.\n"
     ]
    }
   ],
   "source": [
    "lslop_pd = pd.get_dummies(df_train['land_slope'], dummy_na = False) \n",
    "lslop_pd = lslop_pd.add_suffix('_lslop')\n",
    "df_train = pd.concat([df_train, lslop_pd], axis = 1)\n",
    "print(\"Land Slope data has been concatenated.\")\n",
    "df_train.drop(columns = 'land_slope', inplace = True)"
   ]
  },
  {
   "cell_type": "markdown",
   "metadata": {},
   "source": [
    "#### neighborhood column\n",
    "Set neighborhood to a dummy variable"
   ]
  },
  {
   "cell_type": "code",
   "execution_count": 40,
   "metadata": {},
   "outputs": [
    {
     "name": "stdout",
     "output_type": "stream",
     "text": [
      "Neighborhood data has been concatenated.\n"
     ]
    }
   ],
   "source": [
    "ngbh_pd = pd.get_dummies(df_train['neighborhood'], dummy_na = False)\n",
    "ngbh_pd = ngbh_pd.add_suffix('_ngbh')\n",
    "df_train = pd.concat([df_train, ngbh_pd], axis = 1)\n",
    "print(\"Neighborhood data has been concatenated.\")\n",
    "df_train.drop(columns = 'neighborhood', inplace = True)"
   ]
  },
  {
   "cell_type": "markdown",
   "metadata": {},
   "source": [
    "#### Condition 1 and Condition 2\n",
    "Both condition columns are proximity to railroads and can thus be set to dummy columns."
   ]
  },
  {
   "cell_type": "code",
   "execution_count": 41,
   "metadata": {},
   "outputs": [],
   "source": [
    "con2_pd = pd.get_dummies(df_train['condition_2'], dummy_na = False)\n",
    "con2_pd = con2_pd.add_suffix('_cond2')"
   ]
  },
  {
   "cell_type": "code",
   "execution_count": 42,
   "metadata": {},
   "outputs": [
    {
     "name": "stdout",
     "output_type": "stream",
     "text": [
      "Condition 2 data has been concatenated.\n"
     ]
    }
   ],
   "source": [
    "df_train = pd.concat([df_train, con2_pd], axis = 1)\n",
    "print(\"Condition 2 data has been concatenated.\")"
   ]
  },
  {
   "cell_type": "code",
   "execution_count": 43,
   "metadata": {},
   "outputs": [],
   "source": [
    "df_train.drop(columns = 'condition_2', inplace = True)"
   ]
  },
  {
   "cell_type": "code",
   "execution_count": 44,
   "metadata": {},
   "outputs": [
    {
     "data": {
      "text/html": [
       "<div>\n",
       "<style scoped>\n",
       "    .dataframe tbody tr th:only-of-type {\n",
       "        vertical-align: middle;\n",
       "    }\n",
       "\n",
       "    .dataframe tbody tr th {\n",
       "        vertical-align: top;\n",
       "    }\n",
       "\n",
       "    .dataframe thead th {\n",
       "        text-align: right;\n",
       "    }\n",
       "</style>\n",
       "<table border=\"1\" class=\"dataframe\">\n",
       "  <thead>\n",
       "    <tr style=\"text-align: right;\">\n",
       "      <th></th>\n",
       "      <th>Artery_cond2_cond1</th>\n",
       "      <th>Feedr_cond2_cond1</th>\n",
       "      <th>Norm_cond2_cond1</th>\n",
       "      <th>PosA_cond2_cond1</th>\n",
       "      <th>PosN_cond2_cond1</th>\n",
       "      <th>RRAe_cond2_cond1</th>\n",
       "      <th>RRAn_cond2_cond1</th>\n",
       "      <th>RRNn_cond2_cond1</th>\n",
       "    </tr>\n",
       "  </thead>\n",
       "  <tbody>\n",
       "    <tr>\n",
       "      <th>0</th>\n",
       "      <td>0</td>\n",
       "      <td>0</td>\n",
       "      <td>1</td>\n",
       "      <td>0</td>\n",
       "      <td>0</td>\n",
       "      <td>0</td>\n",
       "      <td>0</td>\n",
       "      <td>0</td>\n",
       "    </tr>\n",
       "    <tr>\n",
       "      <th>1</th>\n",
       "      <td>0</td>\n",
       "      <td>0</td>\n",
       "      <td>1</td>\n",
       "      <td>0</td>\n",
       "      <td>0</td>\n",
       "      <td>0</td>\n",
       "      <td>0</td>\n",
       "      <td>0</td>\n",
       "    </tr>\n",
       "    <tr>\n",
       "      <th>2</th>\n",
       "      <td>0</td>\n",
       "      <td>0</td>\n",
       "      <td>1</td>\n",
       "      <td>0</td>\n",
       "      <td>0</td>\n",
       "      <td>0</td>\n",
       "      <td>0</td>\n",
       "      <td>0</td>\n",
       "    </tr>\n",
       "    <tr>\n",
       "      <th>3</th>\n",
       "      <td>0</td>\n",
       "      <td>0</td>\n",
       "      <td>1</td>\n",
       "      <td>0</td>\n",
       "      <td>0</td>\n",
       "      <td>0</td>\n",
       "      <td>0</td>\n",
       "      <td>0</td>\n",
       "    </tr>\n",
       "    <tr>\n",
       "      <th>4</th>\n",
       "      <td>0</td>\n",
       "      <td>0</td>\n",
       "      <td>1</td>\n",
       "      <td>0</td>\n",
       "      <td>0</td>\n",
       "      <td>0</td>\n",
       "      <td>0</td>\n",
       "      <td>0</td>\n",
       "    </tr>\n",
       "  </tbody>\n",
       "</table>\n",
       "</div>"
      ],
      "text/plain": [
       "   Artery_cond2_cond1  Feedr_cond2_cond1  Norm_cond2_cond1  PosA_cond2_cond1  \\\n",
       "0                   0                  0                 1                 0   \n",
       "1                   0                  0                 1                 0   \n",
       "2                   0                  0                 1                 0   \n",
       "3                   0                  0                 1                 0   \n",
       "4                   0                  0                 1                 0   \n",
       "\n",
       "   PosN_cond2_cond1  RRAe_cond2_cond1  RRAn_cond2_cond1  RRNn_cond2_cond1  \n",
       "0                 0                 0                 0                 0  \n",
       "1                 0                 0                 0                 0  \n",
       "2                 0                 0                 0                 0  \n",
       "3                 0                 0                 0                 0  \n",
       "4                 0                 0                 0                 0  "
      ]
     },
     "execution_count": 44,
     "metadata": {},
     "output_type": "execute_result"
    }
   ],
   "source": [
    "con1_pd = pd.get_dummies(df_train['condition_1'], dummy_na = False)\n",
    "con1_pd = con2_pd.add_suffix('_cond1')\n",
    "con1_pd.head()"
   ]
  },
  {
   "cell_type": "code",
   "execution_count": 45,
   "metadata": {},
   "outputs": [
    {
     "name": "stdout",
     "output_type": "stream",
     "text": [
      "Condition 1 data has been concatenated.\n"
     ]
    }
   ],
   "source": [
    "df_train = pd.concat([df_train, con1_pd], axis = 1)\n",
    "print(\"Condition 1 data has been concatenated.\")\n",
    "df_train.drop(columns = 'condition_1', inplace = True)"
   ]
  },
  {
   "cell_type": "markdown",
   "metadata": {},
   "source": [
    "Both Condition 1 and Condition 2 have been set up as dummy variables now."
   ]
  },
  {
   "cell_type": "markdown",
   "metadata": {},
   "source": [
    "#### bldg_type column:\n",
    "Set bldg_type to a dummy variable"
   ]
  },
  {
   "cell_type": "code",
   "execution_count": 46,
   "metadata": {
    "scrolled": true
   },
   "outputs": [
    {
     "name": "stdout",
     "output_type": "stream",
     "text": [
      "Building Type data has been concatenated.\n"
     ]
    }
   ],
   "source": [
    "bdtp_pd = pd.get_dummies(df_train['bldg_type'], dummy_na = False)\n",
    "bdtp_pd = bdtp_pd.add_suffix('_bdtp')\n",
    "df_train = pd.concat([df_train, bdtp_pd], axis = 1)\n",
    "print(\"Building Type data has been concatenated.\")\n",
    "df_train.drop(columns = 'bldg_type', inplace = True)"
   ]
  },
  {
   "cell_type": "markdown",
   "metadata": {},
   "source": [
    "#### house_style column\n",
    "Set house_style to a dummy variable"
   ]
  },
  {
   "cell_type": "code",
   "execution_count": 47,
   "metadata": {
    "scrolled": true
   },
   "outputs": [
    {
     "name": "stdout",
     "output_type": "stream",
     "text": [
      "House Style data has been concatenated.\n"
     ]
    }
   ],
   "source": [
    "hssty_pd = pd.get_dummies(df_train['house_style'], dummy_na = False)\n",
    "hssty_pd = hssty_pd.add_suffix('_hssty')\n",
    "df_train = pd.concat([df_train, hssty_pd], axis = 1)\n",
    "print(\"House Style data has been concatenated.\")\n",
    "df_train.drop(columns = 'house_style', inplace = True)"
   ]
  },
  {
   "cell_type": "markdown",
   "metadata": {},
   "source": [
    "#### roof_style column\n",
    "Set roof_style to a dummy variable"
   ]
  },
  {
   "cell_type": "code",
   "execution_count": 48,
   "metadata": {},
   "outputs": [
    {
     "name": "stdout",
     "output_type": "stream",
     "text": [
      "rf_st data has been concatenated.\n"
     ]
    }
   ],
   "source": [
    "rfst_pd = pd.get_dummies(df_train['roof_style'], dummy_na = False)\n",
    "rfst_pd = rfst_pd.add_suffix('_rfst')\n",
    "df_train = pd.concat([df_train, rfst_pd], axis = 1)\n",
    "print(\"rf_st data has been concatenated.\")\n",
    "df_train.drop(columns = 'roof_style', inplace = True)"
   ]
  },
  {
   "cell_type": "markdown",
   "metadata": {},
   "source": [
    "#### roof_matl column:  \n",
    "Set roof_matl with dummy columns:"
   ]
  },
  {
   "cell_type": "code",
   "execution_count": 49,
   "metadata": {},
   "outputs": [
    {
     "name": "stdout",
     "output_type": "stream",
     "text": [
      "Roof Material data has been concatenated.\n"
     ]
    }
   ],
   "source": [
    "rfmat_pd = pd.get_dummies(df_train['roof_matl'], dummy_na = False)\n",
    "rfmat_pd = rfmat_pd.add_suffix('_rfmat')\n",
    "df_train = pd.concat([df_train, rfmat_pd], axis = 1)\n",
    "print(\"Roof Material data has been concatenated.\")\n",
    "df_train.drop(columns = 'roof_matl', inplace = True)"
   ]
  },
  {
   "cell_type": "markdown",
   "metadata": {},
   "source": [
    "#### Exterior 1st and 2nd columns:  \n",
    "Set exterior_1st and exterior_2nd to dummy columns:"
   ]
  },
  {
   "cell_type": "code",
   "execution_count": 50,
   "metadata": {},
   "outputs": [
    {
     "name": "stdout",
     "output_type": "stream",
     "text": [
      "Exterior 1 data has been concatenated.\n"
     ]
    }
   ],
   "source": [
    "ext1_pd = pd.get_dummies(df_train['exterior_1st'], dummy_na = False)\n",
    "ext1_pd = ext1_pd.add_suffix('_ext1')\n",
    "df_train = pd.concat([df_train, ext1_pd], axis = 1)\n",
    "print(\"Exterior 1 data has been concatenated.\")\n",
    "df_train.drop(columns = 'exterior_1st', inplace = True)"
   ]
  },
  {
   "cell_type": "code",
   "execution_count": 51,
   "metadata": {
    "scrolled": true
   },
   "outputs": [
    {
     "name": "stdout",
     "output_type": "stream",
     "text": [
      "Exterior 2 data has been concatenated.\n"
     ]
    }
   ],
   "source": [
    "ext2_pd = pd.get_dummies(df_train['exterior_2nd'], dummy_na = False)\n",
    "ext2_pd = ext2_pd.add_suffix('_ext2')\n",
    "df_train = pd.concat([df_train, ext2_pd], axis = 1)\n",
    "print(\"Exterior 2 data has been concatenated.\")\n",
    "df_train.drop(columns = 'exterior_2nd', inplace = True)"
   ]
  },
  {
   "cell_type": "markdown",
   "metadata": {},
   "source": [
    "#### mas_vnr_type column\n",
    "Set mas_vnr_type to a dummy variable"
   ]
  },
  {
   "cell_type": "code",
   "execution_count": 52,
   "metadata": {},
   "outputs": [
    {
     "name": "stdout",
     "output_type": "stream",
     "text": [
      "Mass Veneer Type data has been concatenated.\n"
     ]
    }
   ],
   "source": [
    "mvt_pd = pd.get_dummies(df_train['mas_vnr_type'], dummy_na = False)\n",
    "mvt_pd = mvt_pd.add_suffix('_mvt')\n",
    "df_train = pd.concat([df_train, mvt_pd], axis = 1)\n",
    "print(\"Mass Veneer Type data has been concatenated.\")\n",
    "df_train.drop(columns = 'mas_vnr_type', inplace = True)"
   ]
  },
  {
   "cell_type": "markdown",
   "metadata": {},
   "source": [
    "#### foundation column:\n",
    "Set foundation to a dummy variable"
   ]
  },
  {
   "cell_type": "code",
   "execution_count": 53,
   "metadata": {},
   "outputs": [
    {
     "name": "stdout",
     "output_type": "stream",
     "text": [
      "Foundation data has been concatenated.\n"
     ]
    }
   ],
   "source": [
    "fndn_pd = pd.get_dummies(df_train['foundation'], dummy_na = False)\n",
    "fndn_pd = fndn_pd.add_suffix('_fndn')\n",
    "df_train = pd.concat([df_train, fndn_pd], axis = 1)\n",
    "print(\"Foundation data has been concatenated.\")\n",
    "df_train.drop(columns = 'foundation', inplace = True)"
   ]
  },
  {
   "cell_type": "markdown",
   "metadata": {},
   "source": [
    "#### Heating column\n",
    "Set heating with dummy variables:"
   ]
  },
  {
   "cell_type": "code",
   "execution_count": 54,
   "metadata": {},
   "outputs": [
    {
     "name": "stdout",
     "output_type": "stream",
     "text": [
      "Heating data has been concatenated.\n"
     ]
    }
   ],
   "source": [
    "heat_pd = pd.get_dummies(df_train['heating'], dummy_na = False)\n",
    "heat_pd = heat_pd.add_suffix('_heat')\n",
    "df_train = pd.concat([df_train, heat_pd], axis = 1)\n",
    "print(\"Heating data has been concatenated.\")\n",
    "df_train.drop(columns = 'heating', inplace = True)"
   ]
  },
  {
   "cell_type": "markdown",
   "metadata": {},
   "source": [
    "#### Electrical column\n",
    "To deal with the electrical system column, I will be using dummy variables as there is a mixed category."
   ]
  },
  {
   "cell_type": "code",
   "execution_count": 55,
   "metadata": {},
   "outputs": [
    {
     "name": "stdout",
     "output_type": "stream",
     "text": [
      "Electrical data has been concatenated.\n"
     ]
    },
    {
     "data": {
      "text/html": [
       "<div>\n",
       "<style scoped>\n",
       "    .dataframe tbody tr th:only-of-type {\n",
       "        vertical-align: middle;\n",
       "    }\n",
       "\n",
       "    .dataframe tbody tr th {\n",
       "        vertical-align: top;\n",
       "    }\n",
       "\n",
       "    .dataframe thead th {\n",
       "        text-align: right;\n",
       "    }\n",
       "</style>\n",
       "<table border=\"1\" class=\"dataframe\">\n",
       "  <thead>\n",
       "    <tr style=\"text-align: right;\">\n",
       "      <th></th>\n",
       "      <th>id</th>\n",
       "      <th>pid</th>\n",
       "      <th>ms_subclass</th>\n",
       "      <th>lot_frontage</th>\n",
       "      <th>lot_area</th>\n",
       "      <th>overall_qual</th>\n",
       "      <th>overall_cond</th>\n",
       "      <th>year_built</th>\n",
       "      <th>year_remod/add</th>\n",
       "      <th>mas_vnr_area</th>\n",
       "      <th>...</th>\n",
       "      <th>GasA_heat</th>\n",
       "      <th>GasW_heat</th>\n",
       "      <th>Grav_heat</th>\n",
       "      <th>OthW_heat</th>\n",
       "      <th>Wall_heat</th>\n",
       "      <th>FuseA_elec</th>\n",
       "      <th>FuseF_elec</th>\n",
       "      <th>FuseP_elec</th>\n",
       "      <th>Mix_elec</th>\n",
       "      <th>SBrkr_elec</th>\n",
       "    </tr>\n",
       "  </thead>\n",
       "  <tbody>\n",
       "    <tr>\n",
       "      <th>0</th>\n",
       "      <td>109</td>\n",
       "      <td>533352170</td>\n",
       "      <td>60</td>\n",
       "      <td>0.0</td>\n",
       "      <td>13517</td>\n",
       "      <td>6</td>\n",
       "      <td>8</td>\n",
       "      <td>1976</td>\n",
       "      <td>2005</td>\n",
       "      <td>289.0</td>\n",
       "      <td>...</td>\n",
       "      <td>1</td>\n",
       "      <td>0</td>\n",
       "      <td>0</td>\n",
       "      <td>0</td>\n",
       "      <td>0</td>\n",
       "      <td>0</td>\n",
       "      <td>0</td>\n",
       "      <td>0</td>\n",
       "      <td>0</td>\n",
       "      <td>1</td>\n",
       "    </tr>\n",
       "    <tr>\n",
       "      <th>1</th>\n",
       "      <td>544</td>\n",
       "      <td>531379050</td>\n",
       "      <td>60</td>\n",
       "      <td>43.0</td>\n",
       "      <td>11492</td>\n",
       "      <td>7</td>\n",
       "      <td>5</td>\n",
       "      <td>1996</td>\n",
       "      <td>1997</td>\n",
       "      <td>132.0</td>\n",
       "      <td>...</td>\n",
       "      <td>1</td>\n",
       "      <td>0</td>\n",
       "      <td>0</td>\n",
       "      <td>0</td>\n",
       "      <td>0</td>\n",
       "      <td>0</td>\n",
       "      <td>0</td>\n",
       "      <td>0</td>\n",
       "      <td>0</td>\n",
       "      <td>1</td>\n",
       "    </tr>\n",
       "    <tr>\n",
       "      <th>2</th>\n",
       "      <td>153</td>\n",
       "      <td>535304180</td>\n",
       "      <td>20</td>\n",
       "      <td>68.0</td>\n",
       "      <td>7922</td>\n",
       "      <td>5</td>\n",
       "      <td>7</td>\n",
       "      <td>1953</td>\n",
       "      <td>2007</td>\n",
       "      <td>0.0</td>\n",
       "      <td>...</td>\n",
       "      <td>1</td>\n",
       "      <td>0</td>\n",
       "      <td>0</td>\n",
       "      <td>0</td>\n",
       "      <td>0</td>\n",
       "      <td>0</td>\n",
       "      <td>0</td>\n",
       "      <td>0</td>\n",
       "      <td>0</td>\n",
       "      <td>1</td>\n",
       "    </tr>\n",
       "    <tr>\n",
       "      <th>3</th>\n",
       "      <td>318</td>\n",
       "      <td>916386060</td>\n",
       "      <td>60</td>\n",
       "      <td>73.0</td>\n",
       "      <td>9802</td>\n",
       "      <td>5</td>\n",
       "      <td>5</td>\n",
       "      <td>2006</td>\n",
       "      <td>2007</td>\n",
       "      <td>0.0</td>\n",
       "      <td>...</td>\n",
       "      <td>1</td>\n",
       "      <td>0</td>\n",
       "      <td>0</td>\n",
       "      <td>0</td>\n",
       "      <td>0</td>\n",
       "      <td>0</td>\n",
       "      <td>0</td>\n",
       "      <td>0</td>\n",
       "      <td>0</td>\n",
       "      <td>1</td>\n",
       "    </tr>\n",
       "    <tr>\n",
       "      <th>4</th>\n",
       "      <td>255</td>\n",
       "      <td>906425045</td>\n",
       "      <td>50</td>\n",
       "      <td>82.0</td>\n",
       "      <td>14235</td>\n",
       "      <td>6</td>\n",
       "      <td>8</td>\n",
       "      <td>1900</td>\n",
       "      <td>1993</td>\n",
       "      <td>0.0</td>\n",
       "      <td>...</td>\n",
       "      <td>1</td>\n",
       "      <td>0</td>\n",
       "      <td>0</td>\n",
       "      <td>0</td>\n",
       "      <td>0</td>\n",
       "      <td>0</td>\n",
       "      <td>0</td>\n",
       "      <td>0</td>\n",
       "      <td>0</td>\n",
       "      <td>1</td>\n",
       "    </tr>\n",
       "  </tbody>\n",
       "</table>\n",
       "<p>5 rows × 211 columns</p>\n",
       "</div>"
      ],
      "text/plain": [
       "    id        pid  ms_subclass  lot_frontage  lot_area  overall_qual  \\\n",
       "0  109  533352170           60           0.0     13517             6   \n",
       "1  544  531379050           60          43.0     11492             7   \n",
       "2  153  535304180           20          68.0      7922             5   \n",
       "3  318  916386060           60          73.0      9802             5   \n",
       "4  255  906425045           50          82.0     14235             6   \n",
       "\n",
       "   overall_cond  year_built  year_remod/add  mas_vnr_area  ...  GasA_heat  \\\n",
       "0             8        1976            2005         289.0  ...          1   \n",
       "1             5        1996            1997         132.0  ...          1   \n",
       "2             7        1953            2007           0.0  ...          1   \n",
       "3             5        2006            2007           0.0  ...          1   \n",
       "4             8        1900            1993           0.0  ...          1   \n",
       "\n",
       "   GasW_heat  Grav_heat  OthW_heat  Wall_heat  FuseA_elec  FuseF_elec  \\\n",
       "0          0          0          0          0           0           0   \n",
       "1          0          0          0          0           0           0   \n",
       "2          0          0          0          0           0           0   \n",
       "3          0          0          0          0           0           0   \n",
       "4          0          0          0          0           0           0   \n",
       "\n",
       "   FuseP_elec  Mix_elec  SBrkr_elec  \n",
       "0           0         0           1  \n",
       "1           0         0           1  \n",
       "2           0         0           1  \n",
       "3           0         0           1  \n",
       "4           0         0           1  \n",
       "\n",
       "[5 rows x 211 columns]"
      ]
     },
     "execution_count": 55,
     "metadata": {},
     "output_type": "execute_result"
    }
   ],
   "source": [
    "elec_pd = pd.get_dummies(df_train['electrical'], dummy_na = False)\n",
    "elec_pd = elec_pd.add_suffix('_elec')\n",
    "df_train = pd.concat([df_train, elec_pd], axis = 1)\n",
    "print(\"Electrical data has been concatenated.\")\n",
    "df_train.drop(columns = 'electrical', inplace = True)\n",
    "df_train.head()"
   ]
  },
  {
   "cell_type": "markdown",
   "metadata": {},
   "source": [
    "#### garage_type column\n",
    "Set garage_type to a dummy variable"
   ]
  },
  {
   "cell_type": "code",
   "execution_count": 56,
   "metadata": {
    "scrolled": true
   },
   "outputs": [
    {
     "name": "stdout",
     "output_type": "stream",
     "text": [
      "Garage Type data has been concatenated.\n"
     ]
    }
   ],
   "source": [
    "grgtp_pd = pd.get_dummies(df_train['garage_type'], dummy_na = False)\n",
    "grgtp_pd = grgtp_pd.add_suffix('_grgtp')\n",
    "df_train = pd.concat([df_train, grgtp_pd], axis = 1)\n",
    "print(\"Garage Type data has been concatenated.\")\n",
    "df_train.drop(columns = 'garage_type', inplace = True)"
   ]
  },
  {
   "cell_type": "markdown",
   "metadata": {},
   "source": [
    "#### misc_feature column:\n",
    "Set misc_feature with dummy columns:"
   ]
  },
  {
   "cell_type": "code",
   "execution_count": 57,
   "metadata": {},
   "outputs": [
    {
     "name": "stdout",
     "output_type": "stream",
     "text": [
      "Misc Feature data has been concatenated.\n"
     ]
    }
   ],
   "source": [
    "mscft_pd = pd.get_dummies(df_train['misc_feature'], dummy_na = False)\n",
    "mscft_pd = mscft_pd.add_suffix('_mscft')\n",
    "df_train = pd.concat([df_train, mscft_pd], axis = 1)\n",
    "print(\"Misc Feature data has been concatenated.\")\n",
    "df_train.drop(columns = 'misc_feature', inplace = True)"
   ]
  },
  {
   "cell_type": "markdown",
   "metadata": {},
   "source": [
    "#### sale_type column\n",
    "Set sale_type to a dummy variable"
   ]
  },
  {
   "cell_type": "code",
   "execution_count": 58,
   "metadata": {},
   "outputs": [
    {
     "name": "stdout",
     "output_type": "stream",
     "text": [
      "Lot Config data has been concatenated.\n"
     ]
    }
   ],
   "source": [
    "sltp_pd = pd.get_dummies(df_train['sale_type'], dummy_na = False)\n",
    "sltp_pd = sltp_pd.add_suffix('_sltp')\n",
    "df_train = pd.concat([df_train, sltp_pd], axis = 1)\n",
    "print(\"Lot Config data has been concatenated.\")\n",
    "df_train.drop(columns = 'sale_type', inplace = True)"
   ]
  },
  {
   "cell_type": "code",
   "execution_count": 59,
   "metadata": {
    "scrolled": true
   },
   "outputs": [
    {
     "name": "stdout",
     "output_type": "stream",
     "text": [
      "<class 'pandas.core.frame.DataFrame'>\n",
      "RangeIndex: 2051 entries, 0 to 2050\n",
      "Columns: 230 entries, id to WD _sltp\n",
      "dtypes: float64(11), int64(46), uint8(173)\n",
      "memory usage: 1.2 MB\n"
     ]
    }
   ],
   "source": [
    "df_train.info()"
   ]
  },
  {
   "cell_type": "markdown",
   "metadata": {},
   "source": [
    "With this, the data is cleaned up and ready to be explored and analysed. However, notice that our column names are messed up with capitalised names from the dummy variables. Let's fix that by rerunning the column cleaner again."
   ]
  },
  {
   "cell_type": "code",
   "execution_count": 60,
   "metadata": {},
   "outputs": [
    {
     "data": {
      "text/html": [
       "<div>\n",
       "<style scoped>\n",
       "    .dataframe tbody tr th:only-of-type {\n",
       "        vertical-align: middle;\n",
       "    }\n",
       "\n",
       "    .dataframe tbody tr th {\n",
       "        vertical-align: top;\n",
       "    }\n",
       "\n",
       "    .dataframe thead th {\n",
       "        text-align: right;\n",
       "    }\n",
       "</style>\n",
       "<table border=\"1\" class=\"dataframe\">\n",
       "  <thead>\n",
       "    <tr style=\"text-align: right;\">\n",
       "      <th></th>\n",
       "      <th>id</th>\n",
       "      <th>pid</th>\n",
       "      <th>ms_subclass</th>\n",
       "      <th>lot_frontage</th>\n",
       "      <th>lot_area</th>\n",
       "      <th>overall_qual</th>\n",
       "      <th>overall_cond</th>\n",
       "      <th>year_built</th>\n",
       "      <th>year_remod/add</th>\n",
       "      <th>mas_vnr_area</th>\n",
       "      <th>...</th>\n",
       "      <th>tenc_mscft</th>\n",
       "      <th>cod_sltp</th>\n",
       "      <th>cwd_sltp</th>\n",
       "      <th>con_sltp</th>\n",
       "      <th>conld_sltp</th>\n",
       "      <th>conli_sltp</th>\n",
       "      <th>conlw_sltp</th>\n",
       "      <th>new_sltp</th>\n",
       "      <th>oth_sltp</th>\n",
       "      <th>wd__sltp</th>\n",
       "    </tr>\n",
       "  </thead>\n",
       "  <tbody>\n",
       "    <tr>\n",
       "      <th>2046</th>\n",
       "      <td>1587</td>\n",
       "      <td>921126030</td>\n",
       "      <td>20</td>\n",
       "      <td>79.0</td>\n",
       "      <td>11449</td>\n",
       "      <td>8</td>\n",
       "      <td>5</td>\n",
       "      <td>2007</td>\n",
       "      <td>2007</td>\n",
       "      <td>0.0</td>\n",
       "      <td>...</td>\n",
       "      <td>0</td>\n",
       "      <td>0</td>\n",
       "      <td>0</td>\n",
       "      <td>0</td>\n",
       "      <td>0</td>\n",
       "      <td>0</td>\n",
       "      <td>0</td>\n",
       "      <td>0</td>\n",
       "      <td>0</td>\n",
       "      <td>1</td>\n",
       "    </tr>\n",
       "    <tr>\n",
       "      <th>2047</th>\n",
       "      <td>785</td>\n",
       "      <td>905377130</td>\n",
       "      <td>30</td>\n",
       "      <td>0.0</td>\n",
       "      <td>12342</td>\n",
       "      <td>4</td>\n",
       "      <td>5</td>\n",
       "      <td>1940</td>\n",
       "      <td>1950</td>\n",
       "      <td>0.0</td>\n",
       "      <td>...</td>\n",
       "      <td>0</td>\n",
       "      <td>0</td>\n",
       "      <td>0</td>\n",
       "      <td>0</td>\n",
       "      <td>0</td>\n",
       "      <td>0</td>\n",
       "      <td>0</td>\n",
       "      <td>0</td>\n",
       "      <td>0</td>\n",
       "      <td>1</td>\n",
       "    </tr>\n",
       "    <tr>\n",
       "      <th>2048</th>\n",
       "      <td>916</td>\n",
       "      <td>909253010</td>\n",
       "      <td>50</td>\n",
       "      <td>57.0</td>\n",
       "      <td>7558</td>\n",
       "      <td>6</td>\n",
       "      <td>6</td>\n",
       "      <td>1928</td>\n",
       "      <td>1950</td>\n",
       "      <td>0.0</td>\n",
       "      <td>...</td>\n",
       "      <td>0</td>\n",
       "      <td>0</td>\n",
       "      <td>0</td>\n",
       "      <td>0</td>\n",
       "      <td>0</td>\n",
       "      <td>0</td>\n",
       "      <td>0</td>\n",
       "      <td>0</td>\n",
       "      <td>0</td>\n",
       "      <td>1</td>\n",
       "    </tr>\n",
       "    <tr>\n",
       "      <th>2049</th>\n",
       "      <td>639</td>\n",
       "      <td>535179160</td>\n",
       "      <td>20</td>\n",
       "      <td>80.0</td>\n",
       "      <td>10400</td>\n",
       "      <td>4</td>\n",
       "      <td>5</td>\n",
       "      <td>1956</td>\n",
       "      <td>1956</td>\n",
       "      <td>0.0</td>\n",
       "      <td>...</td>\n",
       "      <td>0</td>\n",
       "      <td>0</td>\n",
       "      <td>0</td>\n",
       "      <td>0</td>\n",
       "      <td>0</td>\n",
       "      <td>0</td>\n",
       "      <td>0</td>\n",
       "      <td>0</td>\n",
       "      <td>0</td>\n",
       "      <td>1</td>\n",
       "    </tr>\n",
       "    <tr>\n",
       "      <th>2050</th>\n",
       "      <td>10</td>\n",
       "      <td>527162130</td>\n",
       "      <td>60</td>\n",
       "      <td>60.0</td>\n",
       "      <td>7500</td>\n",
       "      <td>7</td>\n",
       "      <td>5</td>\n",
       "      <td>1999</td>\n",
       "      <td>1999</td>\n",
       "      <td>0.0</td>\n",
       "      <td>...</td>\n",
       "      <td>0</td>\n",
       "      <td>0</td>\n",
       "      <td>0</td>\n",
       "      <td>0</td>\n",
       "      <td>0</td>\n",
       "      <td>0</td>\n",
       "      <td>0</td>\n",
       "      <td>0</td>\n",
       "      <td>0</td>\n",
       "      <td>1</td>\n",
       "    </tr>\n",
       "  </tbody>\n",
       "</table>\n",
       "<p>5 rows × 230 columns</p>\n",
       "</div>"
      ],
      "text/plain": [
       "        id        pid  ms_subclass  lot_frontage  lot_area  overall_qual  \\\n",
       "2046  1587  921126030           20          79.0     11449             8   \n",
       "2047   785  905377130           30           0.0     12342             4   \n",
       "2048   916  909253010           50          57.0      7558             6   \n",
       "2049   639  535179160           20          80.0     10400             4   \n",
       "2050    10  527162130           60          60.0      7500             7   \n",
       "\n",
       "      overall_cond  year_built  year_remod/add  mas_vnr_area  ...  tenc_mscft  \\\n",
       "2046             5        2007            2007           0.0  ...           0   \n",
       "2047             5        1940            1950           0.0  ...           0   \n",
       "2048             6        1928            1950           0.0  ...           0   \n",
       "2049             5        1956            1956           0.0  ...           0   \n",
       "2050             5        1999            1999           0.0  ...           0   \n",
       "\n",
       "      cod_sltp  cwd_sltp  con_sltp  conld_sltp  conli_sltp  conlw_sltp  \\\n",
       "2046         0         0         0           0           0           0   \n",
       "2047         0         0         0           0           0           0   \n",
       "2048         0         0         0           0           0           0   \n",
       "2049         0         0         0           0           0           0   \n",
       "2050         0         0         0           0           0           0   \n",
       "\n",
       "      new_sltp  oth_sltp  wd__sltp  \n",
       "2046         0         0         1  \n",
       "2047         0         0         1  \n",
       "2048         0         0         1  \n",
       "2049         0         0         1  \n",
       "2050         0         0         1  \n",
       "\n",
       "[5 rows x 230 columns]"
      ]
     },
     "execution_count": 60,
     "metadata": {},
     "output_type": "execute_result"
    }
   ],
   "source": [
    "df_train.columns = df_train.columns.str.lower()\n",
    "df_train.columns = df_train.columns.str.replace(' ','_')\n",
    "df_train.tail()"
   ]
  },
  {
   "cell_type": "markdown",
   "metadata": {},
   "source": [
    "## Data cleaning: ID and PID Columns\n",
    "---\n",
    "\n",
    "From the data dictionary, we find that ID and the PID are just indexes of their respective houses. These are not needed in our data and thus will be dropped."
   ]
  },
  {
   "cell_type": "code",
   "execution_count": 61,
   "metadata": {
    "scrolled": true
   },
   "outputs": [
    {
     "data": {
      "text/html": [
       "<div>\n",
       "<style scoped>\n",
       "    .dataframe tbody tr th:only-of-type {\n",
       "        vertical-align: middle;\n",
       "    }\n",
       "\n",
       "    .dataframe tbody tr th {\n",
       "        vertical-align: top;\n",
       "    }\n",
       "\n",
       "    .dataframe thead th {\n",
       "        text-align: right;\n",
       "    }\n",
       "</style>\n",
       "<table border=\"1\" class=\"dataframe\">\n",
       "  <thead>\n",
       "    <tr style=\"text-align: right;\">\n",
       "      <th></th>\n",
       "      <th>ms_subclass</th>\n",
       "      <th>lot_frontage</th>\n",
       "      <th>lot_area</th>\n",
       "      <th>overall_qual</th>\n",
       "      <th>overall_cond</th>\n",
       "      <th>year_built</th>\n",
       "      <th>year_remod/add</th>\n",
       "      <th>mas_vnr_area</th>\n",
       "      <th>exter_qual</th>\n",
       "      <th>exter_cond</th>\n",
       "      <th>...</th>\n",
       "      <th>tenc_mscft</th>\n",
       "      <th>cod_sltp</th>\n",
       "      <th>cwd_sltp</th>\n",
       "      <th>con_sltp</th>\n",
       "      <th>conld_sltp</th>\n",
       "      <th>conli_sltp</th>\n",
       "      <th>conlw_sltp</th>\n",
       "      <th>new_sltp</th>\n",
       "      <th>oth_sltp</th>\n",
       "      <th>wd__sltp</th>\n",
       "    </tr>\n",
       "  </thead>\n",
       "  <tbody>\n",
       "    <tr>\n",
       "      <th>0</th>\n",
       "      <td>60</td>\n",
       "      <td>0.0</td>\n",
       "      <td>13517</td>\n",
       "      <td>6</td>\n",
       "      <td>8</td>\n",
       "      <td>1976</td>\n",
       "      <td>2005</td>\n",
       "      <td>289.0</td>\n",
       "      <td>4</td>\n",
       "      <td>3</td>\n",
       "      <td>...</td>\n",
       "      <td>0</td>\n",
       "      <td>0</td>\n",
       "      <td>0</td>\n",
       "      <td>0</td>\n",
       "      <td>0</td>\n",
       "      <td>0</td>\n",
       "      <td>0</td>\n",
       "      <td>0</td>\n",
       "      <td>0</td>\n",
       "      <td>1</td>\n",
       "    </tr>\n",
       "    <tr>\n",
       "      <th>1</th>\n",
       "      <td>60</td>\n",
       "      <td>43.0</td>\n",
       "      <td>11492</td>\n",
       "      <td>7</td>\n",
       "      <td>5</td>\n",
       "      <td>1996</td>\n",
       "      <td>1997</td>\n",
       "      <td>132.0</td>\n",
       "      <td>4</td>\n",
       "      <td>3</td>\n",
       "      <td>...</td>\n",
       "      <td>0</td>\n",
       "      <td>0</td>\n",
       "      <td>0</td>\n",
       "      <td>0</td>\n",
       "      <td>0</td>\n",
       "      <td>0</td>\n",
       "      <td>0</td>\n",
       "      <td>0</td>\n",
       "      <td>0</td>\n",
       "      <td>1</td>\n",
       "    </tr>\n",
       "    <tr>\n",
       "      <th>2</th>\n",
       "      <td>20</td>\n",
       "      <td>68.0</td>\n",
       "      <td>7922</td>\n",
       "      <td>5</td>\n",
       "      <td>7</td>\n",
       "      <td>1953</td>\n",
       "      <td>2007</td>\n",
       "      <td>0.0</td>\n",
       "      <td>3</td>\n",
       "      <td>4</td>\n",
       "      <td>...</td>\n",
       "      <td>0</td>\n",
       "      <td>0</td>\n",
       "      <td>0</td>\n",
       "      <td>0</td>\n",
       "      <td>0</td>\n",
       "      <td>0</td>\n",
       "      <td>0</td>\n",
       "      <td>0</td>\n",
       "      <td>0</td>\n",
       "      <td>1</td>\n",
       "    </tr>\n",
       "    <tr>\n",
       "      <th>3</th>\n",
       "      <td>60</td>\n",
       "      <td>73.0</td>\n",
       "      <td>9802</td>\n",
       "      <td>5</td>\n",
       "      <td>5</td>\n",
       "      <td>2006</td>\n",
       "      <td>2007</td>\n",
       "      <td>0.0</td>\n",
       "      <td>3</td>\n",
       "      <td>3</td>\n",
       "      <td>...</td>\n",
       "      <td>0</td>\n",
       "      <td>0</td>\n",
       "      <td>0</td>\n",
       "      <td>0</td>\n",
       "      <td>0</td>\n",
       "      <td>0</td>\n",
       "      <td>0</td>\n",
       "      <td>0</td>\n",
       "      <td>0</td>\n",
       "      <td>1</td>\n",
       "    </tr>\n",
       "    <tr>\n",
       "      <th>4</th>\n",
       "      <td>50</td>\n",
       "      <td>82.0</td>\n",
       "      <td>14235</td>\n",
       "      <td>6</td>\n",
       "      <td>8</td>\n",
       "      <td>1900</td>\n",
       "      <td>1993</td>\n",
       "      <td>0.0</td>\n",
       "      <td>3</td>\n",
       "      <td>3</td>\n",
       "      <td>...</td>\n",
       "      <td>0</td>\n",
       "      <td>0</td>\n",
       "      <td>0</td>\n",
       "      <td>0</td>\n",
       "      <td>0</td>\n",
       "      <td>0</td>\n",
       "      <td>0</td>\n",
       "      <td>0</td>\n",
       "      <td>0</td>\n",
       "      <td>1</td>\n",
       "    </tr>\n",
       "  </tbody>\n",
       "</table>\n",
       "<p>5 rows × 228 columns</p>\n",
       "</div>"
      ],
      "text/plain": [
       "   ms_subclass  lot_frontage  lot_area  overall_qual  overall_cond  \\\n",
       "0           60           0.0     13517             6             8   \n",
       "1           60          43.0     11492             7             5   \n",
       "2           20          68.0      7922             5             7   \n",
       "3           60          73.0      9802             5             5   \n",
       "4           50          82.0     14235             6             8   \n",
       "\n",
       "   year_built  year_remod/add  mas_vnr_area  exter_qual  exter_cond  ...  \\\n",
       "0        1976            2005         289.0           4           3  ...   \n",
       "1        1996            1997         132.0           4           3  ...   \n",
       "2        1953            2007           0.0           3           4  ...   \n",
       "3        2006            2007           0.0           3           3  ...   \n",
       "4        1900            1993           0.0           3           3  ...   \n",
       "\n",
       "   tenc_mscft  cod_sltp  cwd_sltp  con_sltp  conld_sltp  conli_sltp  \\\n",
       "0           0         0         0         0           0           0   \n",
       "1           0         0         0         0           0           0   \n",
       "2           0         0         0         0           0           0   \n",
       "3           0         0         0         0           0           0   \n",
       "4           0         0         0         0           0           0   \n",
       "\n",
       "   conlw_sltp  new_sltp  oth_sltp  wd__sltp  \n",
       "0           0         0         0         1  \n",
       "1           0         0         0         1  \n",
       "2           0         0         0         1  \n",
       "3           0         0         0         1  \n",
       "4           0         0         0         1  \n",
       "\n",
       "[5 rows x 228 columns]"
      ]
     },
     "execution_count": 61,
     "metadata": {},
     "output_type": "execute_result"
    }
   ],
   "source": [
    "df_train.drop(['id','pid'], axis = 1, inplace = True)\n",
    "df_train.head()"
   ]
  },
  {
   "cell_type": "markdown",
   "metadata": {},
   "source": [
    "Let's save the csv into our data folder for our EDA notebook's reference."
   ]
  },
  {
   "cell_type": "code",
   "execution_count": 62,
   "metadata": {},
   "outputs": [],
   "source": [
    "df_train.to_csv('datasets/clean_train.csv')"
   ]
  }
 ],
 "metadata": {
  "colab": {
   "collapsed_sections": [],
   "name": "Project 2 Team 3.ipynb",
   "provenance": []
  },
  "kernelspec": {
   "display_name": "Python 3",
   "language": "python",
   "name": "python3"
  },
  "language_info": {
   "codemirror_mode": {
    "name": "ipython",
    "version": 3
   },
   "file_extension": ".py",
   "mimetype": "text/x-python",
   "name": "python",
   "nbconvert_exporter": "python",
   "pygments_lexer": "ipython3",
   "version": "3.7.6"
  }
 },
 "nbformat": 4,
 "nbformat_minor": 1
}
