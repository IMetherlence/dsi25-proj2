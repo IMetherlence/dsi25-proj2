{
 "cells": [
  {
   "cell_type": "markdown",
   "metadata": {},
   "source": [
    "# Modeling and Prediction\n",
    "--- "
   ]
  },
  {
   "cell_type": "markdown",
   "metadata": {},
   "source": [
    "## Import Relevant Libraries:"
   ]
  },
  {
   "cell_type": "code",
   "execution_count": 1,
   "metadata": {},
   "outputs": [],
   "source": [
    "#libraries \n",
    "import scipy.stats as stats\n",
    "import numpy as np\n",
    "import pandas as pd\n",
    "# from sklearn.model_selection import \n",
    "# visual\n",
    "import seaborn as sns\n",
    "import matplotlib.pyplot as plt\n",
    "from sklearn.linear_model import LinearRegression, LassoCV, RidgeCV\n",
    "from sklearn.preprocessing import PolynomialFeatures, StandardScaler\n",
    "from sklearn.model_selection import train_test_split, cross_val_score, cross_val_predict\n",
    "from sklearn import metrics\n",
    "from sklearn.metrics import r2_score\n",
    "\n",
    "%matplotlib inline"
   ]
  },
  {
   "cell_type": "markdown",
   "metadata": {},
   "source": [
    "## Import Data:"
   ]
  },
  {
   "cell_type": "code",
   "execution_count": 2,
   "metadata": {},
   "outputs": [],
   "source": [
    "train_url = '../project_2/datasets/noutlier_clean_train.csv'\n",
    "\n",
    "df_train = pd.read_csv(train_url)"
   ]
  },
  {
   "cell_type": "markdown",
   "metadata": {
    "id": "9GUJO5xkaL9_"
   },
   "source": [
    "# Preprocessing and Modeling\n",
    "---\n",
    "\n",
    "\n",
    "## Create feature matrix (X) and target vector (y)  \n",
    "---  \n",
    "Lets try using every numeric columns that is not our target vector as a feature\n",
    "\n",
    "Remember that our target is to get a saleprice"
   ]
  },
  {
   "cell_type": "code",
   "execution_count": 3,
   "metadata": {},
   "outputs": [
    {
     "name": "stdout",
     "output_type": "stream",
     "text": [
      "<class 'pandas.core.frame.DataFrame'>\n",
      "RangeIndex: 2018 entries, 0 to 2017\n",
      "Columns: 230 entries, Unnamed: 0 to wd__sltp\n",
      "dtypes: float64(11), int64(219)\n",
      "memory usage: 3.5 MB\n"
     ]
    }
   ],
   "source": [
    "df_train.info()"
   ]
  },
  {
   "cell_type": "code",
   "execution_count": 4,
   "metadata": {},
   "outputs": [],
   "source": [
    "# features = ['overall_qual','exter_qual', 'gr_liv_area', 'garage_overall']\n",
    "features = [col for col in df_train._get_numeric_data().columns if col !='saleprice']\n",
    "# This selects features in the columns that are NOT saleprice and likely inaccurate\n",
    "\n",
    "X = df_train[features]\n",
    "y = df_train['saleprice']"
   ]
  },
  {
   "cell_type": "markdown",
   "metadata": {},
   "source": [
    "## Train/test split\n",
    "\n",
    "Train test and split the data to split our data into a training set and a holdout set for us to verify the model's accuracy."
   ]
  },
  {
   "cell_type": "code",
   "execution_count": 5,
   "metadata": {},
   "outputs": [],
   "source": [
    "X_train, X_test, y_train, y_test = train_test_split(X, y, random_state=100)"
   ]
  },
  {
   "cell_type": "markdown",
   "metadata": {},
   "source": [
    "## Scaling  \n",
    "---  \n",
    "We may potentially use Lasso and Ridge regression models, thus we will scale them to run our tests."
   ]
  },
  {
   "cell_type": "code",
   "execution_count": 6,
   "metadata": {},
   "outputs": [],
   "source": [
    "ss = StandardScaler()\n",
    "ss.fit(X_train)\n",
    "X_train = ss.transform(X_train)\n",
    "X_test = ss.transform(X_test)"
   ]
  },
  {
   "cell_type": "markdown",
   "metadata": {},
   "source": [
    "## Instantiate our models\n",
    "--- \n",
    "Let's instantiate our regression models."
   ]
  },
  {
   "cell_type": "code",
   "execution_count": 7,
   "metadata": {},
   "outputs": [],
   "source": [
    "lr = LinearRegression()"
   ]
  },
  {
   "cell_type": "code",
   "execution_count": 8,
   "metadata": {},
   "outputs": [],
   "source": [
    "lasso = LassoCV(n_alphas = 400)"
   ]
  },
  {
   "cell_type": "code",
   "execution_count": 9,
   "metadata": {},
   "outputs": [],
   "source": [
    "ridge = RidgeCV(alphas=np.linspace(.1,10,150))"
   ]
  },
  {
   "cell_type": "markdown",
   "metadata": {},
   "source": [
    "## Cross Validation  \n",
    "Cross validate all our model scores with our train data and test data"
   ]
  },
  {
   "cell_type": "code",
   "execution_count": 10,
   "metadata": {},
   "outputs": [
    {
     "data": {
      "text/plain": [
       "-1.0515135755501696e+25"
      ]
     },
     "execution_count": 10,
     "metadata": {},
     "output_type": "execute_result"
    }
   ],
   "source": [
    "lr_scores = cross_val_score(lr, X_train, y_train, cv=3)\n",
    "lr_scores.mean()"
   ]
  },
  {
   "cell_type": "code",
   "execution_count": 11,
   "metadata": {},
   "outputs": [
    {
     "data": {
      "text/plain": [
       "0.8430857585786381"
      ]
     },
     "execution_count": 11,
     "metadata": {},
     "output_type": "execute_result"
    }
   ],
   "source": [
    "lasso_scores = cross_val_score(lasso, X_train, y_train, cv=3)\n",
    "lasso_scores.mean()"
   ]
  },
  {
   "cell_type": "code",
   "execution_count": 12,
   "metadata": {},
   "outputs": [
    {
     "data": {
      "text/plain": [
       "0.8181403740811352"
      ]
     },
     "execution_count": 12,
     "metadata": {},
     "output_type": "execute_result"
    }
   ],
   "source": [
    "ridge_scores = cross_val_score(ridge, X_train, y_train, cv=3)\n",
    "ridge_scores.mean()"
   ]
  },
  {
   "cell_type": "code",
   "execution_count": 13,
   "metadata": {},
   "outputs": [
    {
     "data": {
      "text/plain": [
       "-9.282651799372836e+22"
      ]
     },
     "execution_count": 13,
     "metadata": {},
     "output_type": "execute_result"
    }
   ],
   "source": [
    "cross_val_score(lr, X_test, y_test, cv=5).mean()"
   ]
  },
  {
   "cell_type": "code",
   "execution_count": 14,
   "metadata": {},
   "outputs": [
    {
     "data": {
      "text/plain": [
       "0.8709390991203598"
      ]
     },
     "execution_count": 14,
     "metadata": {},
     "output_type": "execute_result"
    }
   ],
   "source": [
    "cross_val_score(lasso, X_test, y_test, cv=5).mean()"
   ]
  },
  {
   "cell_type": "code",
   "execution_count": 15,
   "metadata": {
    "scrolled": true
   },
   "outputs": [
    {
     "data": {
      "text/plain": [
       "0.8478434133512959"
      ]
     },
     "execution_count": 15,
     "metadata": {},
     "output_type": "execute_result"
    }
   ],
   "source": [
    "cross_val_score(ridge, X_test, y_test, cv=5).mean()"
   ]
  },
  {
   "cell_type": "markdown",
   "metadata": {},
   "source": [
    "Looking at our cross validation score, it appears our Lasso model has the best score for both train and test data. Thus I will use the Lasso model."
   ]
  },
  {
   "cell_type": "markdown",
   "metadata": {},
   "source": [
    "# Making Predictions\n",
    "---\n",
    "Lets start making predictions with our model to test the accuracy and precision."
   ]
  },
  {
   "cell_type": "code",
   "execution_count": 16,
   "metadata": {
    "scrolled": false
   },
   "outputs": [
    {
     "data": {
      "text/plain": [
       "(188     152000\n",
       " 1301    145900\n",
       " 1219    287000\n",
       " 751     136300\n",
       " 702     128000\n",
       " Name: saleprice, dtype: int64,\n",
       " array([160483.09680323, 167360.91488612, 305092.03599285, 144289.37849758,\n",
       "        126213.89081048]))"
      ]
     },
     "execution_count": 16,
     "metadata": {},
     "output_type": "execute_result"
    }
   ],
   "source": [
    "lasso.fit(X_train, y_train) # Fit the data into the lasso model\n",
    "predictions = lasso.predict(X_train) # Make a prediction on the train data\n",
    "prediction_test = lasso.predict(X_test) # Make a prediction on the test data\n",
    "y_train[:5], predictions[:5]"
   ]
  },
  {
   "cell_type": "markdown",
   "metadata": {},
   "source": [
    "### Saving Predictions to a file."
   ]
  },
  {
   "cell_type": "code",
   "execution_count": 17,
   "metadata": {},
   "outputs": [],
   "source": [
    "df_pred_train = pd.DataFrame()\n",
    "df_pred_test = pd.DataFrame()\n",
    "# Create empty dataframes to house our train and test prediction datas\n",
    "\n",
    "df_pred_train['saleprice'] = predictions\n",
    "df_pred_test['saleprice'] = prediction_test\n",
    "# Create a column with the correct name to add our array of predictions into\n",
    "\n",
    "df_pred_train.to_csv('datasets/train_predictions.csv')\n",
    "df_pred_test.to_csv('datasets/test_predictions.csv')\n",
    "# Output our predictions to our datasets file"
   ]
  },
  {
   "cell_type": "markdown",
   "metadata": {},
   "source": [
    "## Find our Train Data Metrics\n",
    "---  \n",
    "Let's find our metrics for our train data:"
   ]
  },
  {
   "cell_type": "code",
   "execution_count": 18,
   "metadata": {},
   "outputs": [
    {
     "data": {
      "text/plain": [
       "19602.597923690624"
      ]
     },
     "execution_count": 18,
     "metadata": {},
     "output_type": "execute_result"
    }
   ],
   "source": [
    "np.sqrt(metrics.mean_squared_error(y_train, predictions)) # Find the RMSE of the train data"
   ]
  },
  {
   "cell_type": "code",
   "execution_count": 19,
   "metadata": {},
   "outputs": [
    {
     "data": {
      "text/plain": [
       "14213.262894665297"
      ]
     },
     "execution_count": 19,
     "metadata": {},
     "output_type": "execute_result"
    }
   ],
   "source": [
    "metrics.mean_absolute_error(y_train, predictions) # Find the mean absolute error of the train data"
   ]
  },
  {
   "cell_type": "code",
   "execution_count": 20,
   "metadata": {},
   "outputs": [
    {
     "data": {
      "text/plain": [
       "0.921324814693764"
      ]
     },
     "execution_count": 20,
     "metadata": {},
     "output_type": "execute_result"
    }
   ],
   "source": [
    "metrics.r2_score(y_train, predictions) # Find our R2 score in our train data"
   ]
  },
  {
   "cell_type": "code",
   "execution_count": 21,
   "metadata": {},
   "outputs": [
    {
     "data": {
      "text/plain": [
       "0.11072704964883712"
      ]
     },
     "execution_count": 21,
     "metadata": {},
     "output_type": "execute_result"
    }
   ],
   "source": [
    "np.sqrt(metrics.mean_squared_error(y_train, predictions))/y_train.mean()"
   ]
  },
  {
   "cell_type": "code",
   "execution_count": 22,
   "metadata": {},
   "outputs": [
    {
     "data": {
      "text/plain": [
       "0.0802849026611712"
      ]
     },
     "execution_count": 22,
     "metadata": {},
     "output_type": "execute_result"
    }
   ],
   "source": [
    "metrics.mean_absolute_error(y_train, predictions)/y_train.mean()"
   ]
  },
  {
   "cell_type": "markdown",
   "metadata": {},
   "source": [
    "#### Interpreting our Train Data metrics\n",
    "A R2 of 0.921 is quite good for our model as it shows a high degree of accuracy in our data relative to the actual data points. We have a RMSE of about 19606, with a mean absolute error of 14217. This indicates that there may be a rather large variance in our model, although it has to be noted that our sale's price is rather high and so a rather large error number is to be expected.   \n",
    "Relative to our train data's mean sale price, I am of the opinion that our RMSE and MAE numbers are acceptable for this model as the RMSE and MAE error percentage relative to our mean is about 11% and 8%. This also falls in line with the volatility of the property market as well."
   ]
  },
  {
   "cell_type": "markdown",
   "metadata": {},
   "source": [
    "## Find our Test Data Metrics\n",
    "---  \n",
    "Let's find our metrics for our test data:"
   ]
  },
  {
   "cell_type": "code",
   "execution_count": 23,
   "metadata": {},
   "outputs": [
    {
     "data": {
      "text/plain": [
       "20877.348426348915"
      ]
     },
     "execution_count": 23,
     "metadata": {},
     "output_type": "execute_result"
    }
   ],
   "source": [
    "np.sqrt(metrics.mean_squared_error(y_test, prediction_test))"
   ]
  },
  {
   "cell_type": "code",
   "execution_count": 24,
   "metadata": {},
   "outputs": [
    {
     "data": {
      "text/plain": [
       "15279.248862092008"
      ]
     },
     "execution_count": 24,
     "metadata": {},
     "output_type": "execute_result"
    }
   ],
   "source": [
    "metrics.mean_absolute_error(y_test, prediction_test)"
   ]
  },
  {
   "cell_type": "code",
   "execution_count": 25,
   "metadata": {},
   "outputs": [
    {
     "data": {
      "text/plain": [
       "0.8994622252710933"
      ]
     },
     "execution_count": 25,
     "metadata": {},
     "output_type": "execute_result"
    }
   ],
   "source": [
    "metrics.r2_score(y_test, prediction_test)"
   ]
  },
  {
   "cell_type": "code",
   "execution_count": 26,
   "metadata": {},
   "outputs": [
    {
     "data": {
      "text/plain": [
       "0.11958664790646087"
      ]
     },
     "execution_count": 26,
     "metadata": {},
     "output_type": "execute_result"
    }
   ],
   "source": [
    "np.sqrt(metrics.mean_squared_error(y_test, prediction_test))/y_test.mean()"
   ]
  },
  {
   "cell_type": "code",
   "execution_count": 27,
   "metadata": {},
   "outputs": [
    {
     "data": {
      "text/plain": [
       "0.08630622093743766"
      ]
     },
     "execution_count": 27,
     "metadata": {},
     "output_type": "execute_result"
    }
   ],
   "source": [
    "metrics.mean_absolute_error(y_test, prediction_test)/y_train.mean()"
   ]
  },
  {
   "cell_type": "markdown",
   "metadata": {},
   "source": [
    "#### Interpreting our Test Data metrics\n",
    "This test data metric is good as it indicates to us a relatively high R2 score of about 0.899, meaning there is not too much difference between our train model, and test model, meaning that our model is relatively accurate at predicting the sale price of the house.\n",
    "\n",
    "Our RMSE and MAE has definitely increased from the test data, which indicates that there are still differences in the models. This is to be expected as our model may be precise to our train data, but not necessarily to the test data. However, it should still be able to maintain a level of precision relative to the test data, which it did as it's value is relatively similar to the train data as well.\n",
    "\n",
    "Our relative error percentage to our RMSE/mean and MAE/mean is about 12.0% and 8.6%, a slight increase from our train data."
   ]
  },
  {
   "cell_type": "code",
   "execution_count": 28,
   "metadata": {},
   "outputs": [
    {
     "data": {
      "image/png": "[encoded data removed]",
      "text/plain": [
       "<Figure size 1152x576 with 1 Axes>"
      ]
     },
     "metadata": {
      "needs_background": "light"
     },
     "output_type": "display_data"
    }
   ],
   "source": [
    "lasso_c = pd.DataFrame()\n",
    "lasso_c['features'] = pd.Series(features)\n",
    "lasso_c['lasso_coeff'] = pd.Series(lasso.coef_)\n",
    "lasso_c['abs_lasso_coeff'] = pd.Series(abs(lasso.coef_))\n",
    "lasso_c.sort_values('abs_lasso_coeff', ascending= False, inplace = True)\n",
    "plt.figure(figsize = (16,8))\n",
    "plt.title('Top 10 Coefficients')\n",
    "plt.rcParams.update({'font.size': 10})\n",
    "plt.barh(y = lasso_c['features'].head(10), width = lasso_c['lasso_coeff'].head(10));"
   ]
  },
  {
   "cell_type": "code",
   "execution_count": 29,
   "metadata": {},
   "outputs": [
    {
     "name": "stdout",
     "output_type": "stream",
     "text": [
      "Number of clay tile roof materials: 1\n",
      "Number of Elevator 1\n",
      "Number in North Ridge Neighborhood: 106\n"
     ]
    }
   ],
   "source": [
    "print(\"Number of clay tile roof materials: \" + str(np.count_nonzero(df_train['clytile_rfmat'])))\n",
    "print(\"Number of Elevator \" + str(np.count_nonzero(df_train['elev_mscft'])))\n",
    "print(\"Number in North Ridge Neighborhood: \" + str(np.count_nonzero(df_train['nridght_ngbh'])))"
   ]
  },
  {
   "cell_type": "markdown",
   "metadata": {},
   "source": [
    "It is obvious that clay tile roof materials and elevator features are extremely rare cases in our data. These data should be removed as they are considered outliers if we were to consider the top influencing coefficient. We do note that they contribute a large negative to our price point."
   ]
  },
  {
   "cell_type": "code",
   "execution_count": 30,
   "metadata": {},
   "outputs": [
    {
     "data": {
      "text/html": [
       "<div>\n",
       "<style scoped>\n",
       "    .dataframe tbody tr th:only-of-type {\n",
       "        vertical-align: middle;\n",
       "    }\n",
       "\n",
       "    .dataframe tbody tr th {\n",
       "        vertical-align: top;\n",
       "    }\n",
       "\n",
       "    .dataframe thead th {\n",
       "        text-align: right;\n",
       "    }\n",
       "</style>\n",
       "<table border=\"1\" class=\"dataframe\">\n",
       "  <thead>\n",
       "    <tr style=\"text-align: right;\">\n",
       "      <th></th>\n",
       "      <th>features</th>\n",
       "      <th>lasso_coeff</th>\n",
       "      <th>abs_lasso_coeff</th>\n",
       "    </tr>\n",
       "  </thead>\n",
       "  <tbody>\n",
       "    <tr>\n",
       "      <th>26</th>\n",
       "      <td>gr_liv_area</td>\n",
       "      <td>21454.734881</td>\n",
       "      <td>21454.734881</td>\n",
       "    </tr>\n",
       "    <tr>\n",
       "      <th>5</th>\n",
       "      <td>overall_qual</td>\n",
       "      <td>13033.899776</td>\n",
       "      <td>13033.899776</td>\n",
       "    </tr>\n",
       "    <tr>\n",
       "      <th>215</th>\n",
       "      <td>elev_mscft</td>\n",
       "      <td>-9976.677926</td>\n",
       "      <td>9976.677926</td>\n",
       "    </tr>\n",
       "    <tr>\n",
       "      <th>16</th>\n",
       "      <td>bsmtfin_sf_1</td>\n",
       "      <td>8470.051539</td>\n",
       "      <td>8470.051539</td>\n",
       "    </tr>\n",
       "    <tr>\n",
       "      <th>106</th>\n",
       "      <td>nridght_ngbh</td>\n",
       "      <td>6848.168769</td>\n",
       "      <td>6848.168769</td>\n",
       "    </tr>\n",
       "    <tr>\n",
       "      <th>7</th>\n",
       "      <td>year_built</td>\n",
       "      <td>6092.874655</td>\n",
       "      <td>6092.874655</td>\n",
       "    </tr>\n",
       "    <tr>\n",
       "      <th>10</th>\n",
       "      <td>exter_qual</td>\n",
       "      <td>4920.253448</td>\n",
       "      <td>4920.253448</td>\n",
       "    </tr>\n",
       "    <tr>\n",
       "      <th>33</th>\n",
       "      <td>kitchen_qual</td>\n",
       "      <td>4611.005083</td>\n",
       "      <td>4611.005083</td>\n",
       "    </tr>\n",
       "    <tr>\n",
       "      <th>14</th>\n",
       "      <td>bsmt_exposure</td>\n",
       "      <td>4008.646140</td>\n",
       "      <td>4008.646140</td>\n",
       "    </tr>\n",
       "    <tr>\n",
       "      <th>105</th>\n",
       "      <td>noridge_ngbh</td>\n",
       "      <td>3702.195162</td>\n",
       "      <td>3702.195162</td>\n",
       "    </tr>\n",
       "  </tbody>\n",
       "</table>\n",
       "</div>"
      ],
      "text/plain": [
       "          features   lasso_coeff  abs_lasso_coeff\n",
       "26     gr_liv_area  21454.734881     21454.734881\n",
       "5     overall_qual  13033.899776     13033.899776\n",
       "215     elev_mscft  -9976.677926      9976.677926\n",
       "16    bsmtfin_sf_1   8470.051539      8470.051539\n",
       "106   nridght_ngbh   6848.168769      6848.168769\n",
       "7       year_built   6092.874655      6092.874655\n",
       "10      exter_qual   4920.253448      4920.253448\n",
       "33    kitchen_qual   4611.005083      4611.005083\n",
       "14   bsmt_exposure   4008.646140      4008.646140\n",
       "105   noridge_ngbh   3702.195162      3702.195162"
      ]
     },
     "execution_count": 30,
     "metadata": {},
     "output_type": "execute_result"
    }
   ],
   "source": [
    "lasso_c.drop(index = 150,axis = 0, inplace  =True)\n",
    "lasso_c.head(10)"
   ]
  },
  {
   "cell_type": "code",
   "execution_count": 31,
   "metadata": {},
   "outputs": [
    {
     "data": {
      "text/html": [
       "<div>\n",
       "<style scoped>\n",
       "    .dataframe tbody tr th:only-of-type {\n",
       "        vertical-align: middle;\n",
       "    }\n",
       "\n",
       "    .dataframe tbody tr th {\n",
       "        vertical-align: top;\n",
       "    }\n",
       "\n",
       "    .dataframe thead th {\n",
       "        text-align: right;\n",
       "    }\n",
       "</style>\n",
       "<table border=\"1\" class=\"dataframe\">\n",
       "  <thead>\n",
       "    <tr style=\"text-align: right;\">\n",
       "      <th></th>\n",
       "      <th>features</th>\n",
       "      <th>lasso_coeff</th>\n",
       "      <th>abs_lasso_coeff</th>\n",
       "    </tr>\n",
       "  </thead>\n",
       "  <tbody>\n",
       "    <tr>\n",
       "      <th>26</th>\n",
       "      <td>gr_liv_area</td>\n",
       "      <td>21454.734881</td>\n",
       "      <td>21454.734881</td>\n",
       "    </tr>\n",
       "    <tr>\n",
       "      <th>5</th>\n",
       "      <td>overall_qual</td>\n",
       "      <td>13033.899776</td>\n",
       "      <td>13033.899776</td>\n",
       "    </tr>\n",
       "    <tr>\n",
       "      <th>16</th>\n",
       "      <td>bsmtfin_sf_1</td>\n",
       "      <td>8470.051539</td>\n",
       "      <td>8470.051539</td>\n",
       "    </tr>\n",
       "    <tr>\n",
       "      <th>106</th>\n",
       "      <td>nridght_ngbh</td>\n",
       "      <td>6848.168769</td>\n",
       "      <td>6848.168769</td>\n",
       "    </tr>\n",
       "    <tr>\n",
       "      <th>7</th>\n",
       "      <td>year_built</td>\n",
       "      <td>6092.874655</td>\n",
       "      <td>6092.874655</td>\n",
       "    </tr>\n",
       "    <tr>\n",
       "      <th>10</th>\n",
       "      <td>exter_qual</td>\n",
       "      <td>4920.253448</td>\n",
       "      <td>4920.253448</td>\n",
       "    </tr>\n",
       "    <tr>\n",
       "      <th>33</th>\n",
       "      <td>kitchen_qual</td>\n",
       "      <td>4611.005083</td>\n",
       "      <td>4611.005083</td>\n",
       "    </tr>\n",
       "    <tr>\n",
       "      <th>14</th>\n",
       "      <td>bsmt_exposure</td>\n",
       "      <td>4008.646140</td>\n",
       "      <td>4008.646140</td>\n",
       "    </tr>\n",
       "    <tr>\n",
       "      <th>105</th>\n",
       "      <td>noridge_ngbh</td>\n",
       "      <td>3702.195162</td>\n",
       "      <td>3702.195162</td>\n",
       "    </tr>\n",
       "    <tr>\n",
       "      <th>41</th>\n",
       "      <td>garage_area</td>\n",
       "      <td>3497.652097</td>\n",
       "      <td>3497.652097</td>\n",
       "    </tr>\n",
       "  </tbody>\n",
       "</table>\n",
       "</div>"
      ],
      "text/plain": [
       "          features   lasso_coeff  abs_lasso_coeff\n",
       "26     gr_liv_area  21454.734881     21454.734881\n",
       "5     overall_qual  13033.899776     13033.899776\n",
       "16    bsmtfin_sf_1   8470.051539      8470.051539\n",
       "106   nridght_ngbh   6848.168769      6848.168769\n",
       "7       year_built   6092.874655      6092.874655\n",
       "10      exter_qual   4920.253448      4920.253448\n",
       "33    kitchen_qual   4611.005083      4611.005083\n",
       "14   bsmt_exposure   4008.646140      4008.646140\n",
       "105   noridge_ngbh   3702.195162      3702.195162\n",
       "41     garage_area   3497.652097      3497.652097"
      ]
     },
     "execution_count": 31,
     "metadata": {},
     "output_type": "execute_result"
    }
   ],
   "source": [
    "lasso_c.drop(index = 215,axis = 0, inplace  =True)\n",
    "lasso_c.head(10)"
   ]
  },
  {
   "cell_type": "markdown",
   "metadata": {},
   "source": [
    "Now both outlier data has been removed from our coefficient indices. Replot the graph to see our top 10 highest coefficient indices."
   ]
  },
  {
   "cell_type": "code",
   "execution_count": 32,
   "metadata": {},
   "outputs": [
    {
     "data": {
      "image/png": "[encoded data removed]",
      "text/plain": [
       "<Figure size 1152x576 with 1 Axes>"
      ]
     },
     "metadata": {
      "needs_background": "light"
     },
     "output_type": "display_data"
    }
   ],
   "source": [
    "plt.figure(figsize = (16,8))\n",
    "plt.title('Top 10 Coefficients')\n",
    "plt.rcParams.update({'font.size': 9})\n",
    "plt.barh(y = lasso_c['features'].head(10),width = lasso_c['lasso_coeff'].head(10));"
   ]
  },
  {
   "cell_type": "markdown",
   "metadata": {},
   "source": [
    "Appears our top 10 are the general living area, the overall quality of the house, the basement size, the location of the house within North Ridge and North Ridge Height, the years built, exterior quality, kitchen quality, basement exposure and the garage area.\n",
    "\n",
    "We can infer that North Ridge is likely an expensive location to stay in given the correlation to the sales price.\n",
    "\n",
    "Research on this particular relationship seem to confirm my conjecture, as followed by this link:  \n",
    "https://nycdatascience.com/blog/r/ames-iowa-real-estate-analysis/\n",
    "\n",
    "Generally speaking a house with large general living area will be more likely to sell at a higher price. Overall quality does have a positive impact on sale price.\n",
    "\n",
    "The size of basement and garage does have a positive impact on our house as well.\n",
    "\n",
    "Next, the later the house was built, the likelier it will sell at a higher price.\n",
    "\n",
    "Being able to see outside from your basement is also likely to raise the price of the house.\n",
    "\n",
    "Lastly, the exterior of the house matters too."
   ]
  },
  {
   "cell_type": "markdown",
   "metadata": {},
   "source": [
    "## Comparing our model to a baseline model\n",
    "--- \n",
    "Our baseline model is based on the mean sale price."
   ]
  },
  {
   "cell_type": "code",
   "execution_count": 33,
   "metadata": {},
   "outputs": [],
   "source": [
    "# Create a prediction for the baseline model\n",
    "y_bar_train = np.mean(y_train)\n",
    "y_bar_test = np.mean(y_test)"
   ]
  },
  {
   "cell_type": "code",
   "execution_count": 34,
   "metadata": {},
   "outputs": [
    {
     "data": {
      "text/plain": [
       "69886.73"
      ]
     },
     "execution_count": 34,
     "metadata": {},
     "output_type": "execute_result"
    }
   ],
   "source": [
    "base_rmse_train = np.mean((y_train - y_bar_train)**2)**0.5\n",
    "round(base_rmse_train,2)"
   ]
  },
  {
   "cell_type": "code",
   "execution_count": 35,
   "metadata": {},
   "outputs": [
    {
     "data": {
      "text/plain": [
       "65843.17"
      ]
     },
     "execution_count": 35,
     "metadata": {},
     "output_type": "execute_result"
    }
   ],
   "source": [
    "base_rmse_test = np.mean((y_test - y_bar_test)**2)**0.5\n",
    "round(base_rmse_test,2)"
   ]
  },
  {
   "cell_type": "markdown",
   "metadata": {},
   "source": [
    "Wow! That is a very large RMSE for both our test and train data for our baseline model. Our model has a lot lower RMSE compared to our baseline model. This means our model is a lot more precise than the baseline model."
   ]
  },
  {
   "cell_type": "code",
   "execution_count": 36,
   "metadata": {},
   "outputs": [],
   "source": [
    "residuals_test = y_test - prediction_test"
   ]
  },
  {
   "cell_type": "code",
   "execution_count": 37,
   "metadata": {},
   "outputs": [
    {
     "data": {
      "image/png": "[encoded data removed]",
      "text/plain": [
       "<Figure size 1080x576 with 1 Axes>"
      ]
     },
     "metadata": {
      "needs_background": "light"
     },
     "output_type": "display_data"
    }
   ],
   "source": [
    "plt.figure(figsize = (15,8))\n",
    "plt.title('Scatter Plot of Residuals vs Predicted House Sales Price based on Test Set')\n",
    "plt.rcParams.update({'font.size': 15})\n",
    "plt.xlabel(\"Predicted House Price\")\n",
    "plt.ylabel(\"Test Residuals\")\n",
    "plt.scatter(prediction_test, residuals_test);"
   ]
  },
  {
   "cell_type": "code",
   "execution_count": 38,
   "metadata": {},
   "outputs": [],
   "source": [
    "residuals_train = y_train - predictions"
   ]
  },
  {
   "cell_type": "code",
   "execution_count": 39,
   "metadata": {},
   "outputs": [
    {
     "data": {
      "image/png": "[encoded data removed]",
      "text/plain": [
       "<Figure size 1080x576 with 1 Axes>"
      ]
     },
     "metadata": {
      "needs_background": "light"
     },
     "output_type": "display_data"
    }
   ],
   "source": [
    "plt.figure(figsize = (15,8))\n",
    "plt.title('Scatter Plot of Residuals vs Predicted House Sales Price based on Train Set')\n",
    "plt.rcParams.update({'font.size': 15})\n",
    "plt.xlabel(\"Predicted House Price\")\n",
    "plt.ylabel(\"Train Residuals\")\n",
    "plt.scatter(predictions, residuals_train);"
   ]
  },
  {
   "cell_type": "markdown",
   "metadata": {},
   "source": [
    "These scatterplots show that our model is quite clustered around the y = 0 line, which means we have a rather good prediction accuracy with our model."
   ]
  },
  {
   "cell_type": "markdown",
   "metadata": {},
   "source": [
    "# Conclusion and Recommendations\n",
    "---\n",
    "From our data, it is clear that there are several factors that contributes to the sales price of a house in AMES. In particular the following:\n",
    "\n",
    "General Living Area\n",
    "Exterior Quality\n",
    "Overall Quality\n",
    "Garage Space\n",
    "Location within Northridge Area\n",
    "\n",
    "Generally, it is recommended to maximise the house living area, and the invest in landscaping and exterior renovation to maximise the exterior of the house. It is also advisable to have a larger garage and to construct the house with generally good quality materials and furnishings/fixtures. It will also be good to attempt to bid for lots and areas within the Northridge area as they contribute to a higher sale price.\n",
    "\n",
    "Also, it might be advisable avoid special fixtures like elevators and clay tiles, they may significantly affect the sales price of the house, although it may be rare."
   ]
  }
 ],
 "metadata": {
  "kernelspec": {
   "display_name": "Python 3",
   "language": "python",
   "name": "python3"
  },
  "language_info": {
   "codemirror_mode": {
    "name": "ipython",
    "version": 3
   },
   "file_extension": ".py",
   "mimetype": "text/x-python",
   "name": "python",
   "nbconvert_exporter": "python",
   "pygments_lexer": "ipython3",
   "version": "3.7.6"
  }
 },
 "nbformat": 4,
 "nbformat_minor": 4
}
